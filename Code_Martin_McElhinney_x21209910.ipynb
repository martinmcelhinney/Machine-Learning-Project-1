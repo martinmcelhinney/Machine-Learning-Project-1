{
 "cells": [
  {
   "cell_type": "markdown",
   "id": "4a2944a1",
   "metadata": {},
   "source": [
    "# Question 1"
   ]
  },
  {
   "cell_type": "markdown",
   "id": "f97979a9",
   "metadata": {},
   "source": [
    "## a) Data Cleaning / Exploritory Data analytis "
   ]
  },
  {
   "cell_type": "code",
   "execution_count": 332,
   "id": "9456f369",
   "metadata": {},
   "outputs": [],
   "source": [
    "#Import the required libraries\n",
    "\n",
    "import pandas as pd\n",
    "import numpy as np\n",
    "import matplotlib.pyplot as plt\n",
    "import seaborn as sns\n",
    "%matplotlib inline"
   ]
  },
  {
   "cell_type": "code",
   "execution_count": 333,
   "id": "d4d7a72e",
   "metadata": {},
   "outputs": [],
   "source": [
    "#Import the dataset into a pandas dataframe\n",
    "\n",
    "df = pd.read_csv('/Users/martinmcelhinney/Documents/NCIRL/Machine Learning/TABA/train.csv')"
   ]
  },
  {
   "cell_type": "code",
   "execution_count": 334,
   "id": "5cb999d3",
   "metadata": {},
   "outputs": [],
   "source": [
    "#Drop the 'policy_id column' to prevent overfitting\n",
    "\n",
    "df = df.drop(['policy_id'], axis=1)"
   ]
  },
  {
   "cell_type": "code",
   "execution_count": 335,
   "id": "aeb887ed",
   "metadata": {},
   "outputs": [
    {
     "data": {
      "text/plain": [
       "(58592, 45)"
      ]
     },
     "execution_count": 335,
     "metadata": {},
     "output_type": "execute_result"
    }
   ],
   "source": [
    "#Investigate how many columns and rows are contained in the dataset\n",
    "\n",
    "df.shape"
   ]
  },
  {
   "cell_type": "code",
   "execution_count": 336,
   "id": "5f38b9e5",
   "metadata": {},
   "outputs": [
    {
     "data": {
      "text/html": [
       "<div>\n",
       "<style scoped>\n",
       "    .dataframe tbody tr th:only-of-type {\n",
       "        vertical-align: middle;\n",
       "    }\n",
       "\n",
       "    .dataframe tbody tr th {\n",
       "        vertical-align: top;\n",
       "    }\n",
       "\n",
       "    .dataframe thead th {\n",
       "        text-align: right;\n",
       "    }\n",
       "</style>\n",
       "<table border=\"1\" class=\"dataframe\">\n",
       "  <thead>\n",
       "    <tr style=\"text-align: right;\">\n",
       "      <th></th>\n",
       "      <th>policy_tenure</th>\n",
       "      <th>age_of_car</th>\n",
       "      <th>age_of_policyholder</th>\n",
       "      <th>area_cluster</th>\n",
       "      <th>population_density</th>\n",
       "      <th>make</th>\n",
       "      <th>segment</th>\n",
       "      <th>model</th>\n",
       "      <th>fuel_type</th>\n",
       "      <th>max_torque</th>\n",
       "      <th>...</th>\n",
       "      <th>is_central_locking</th>\n",
       "      <th>is_power_steering</th>\n",
       "      <th>is_driver_seat_height_adjustable</th>\n",
       "      <th>is_day_night_rear_view_mirror</th>\n",
       "      <th>is_ecw</th>\n",
       "      <th>is_speed_alert</th>\n",
       "      <th>ncap_rating</th>\n",
       "      <th>is_claim</th>\n",
       "      <th>Unnamed: 44</th>\n",
       "      <th>Unnamed: 45</th>\n",
       "    </tr>\n",
       "  </thead>\n",
       "  <tbody>\n",
       "    <tr>\n",
       "      <th>0</th>\n",
       "      <td>0.515874</td>\n",
       "      <td>0.05</td>\n",
       "      <td>0.644231</td>\n",
       "      <td>C1</td>\n",
       "      <td>4990</td>\n",
       "      <td>1</td>\n",
       "      <td>A</td>\n",
       "      <td>M1</td>\n",
       "      <td>CNG</td>\n",
       "      <td>60.0</td>\n",
       "      <td>...</td>\n",
       "      <td>No</td>\n",
       "      <td>Yes</td>\n",
       "      <td>No</td>\n",
       "      <td>No</td>\n",
       "      <td>No</td>\n",
       "      <td>Yes</td>\n",
       "      <td>0</td>\n",
       "      <td>0</td>\n",
       "      <td>NaN</td>\n",
       "      <td>NaN</td>\n",
       "    </tr>\n",
       "    <tr>\n",
       "      <th>1</th>\n",
       "      <td>0.672619</td>\n",
       "      <td>0.02</td>\n",
       "      <td>0.375000</td>\n",
       "      <td>C2</td>\n",
       "      <td>27003</td>\n",
       "      <td>1</td>\n",
       "      <td>A</td>\n",
       "      <td>M1</td>\n",
       "      <td>CNG</td>\n",
       "      <td>60.0</td>\n",
       "      <td>...</td>\n",
       "      <td>No</td>\n",
       "      <td>Yes</td>\n",
       "      <td>No</td>\n",
       "      <td>No</td>\n",
       "      <td>No</td>\n",
       "      <td>Yes</td>\n",
       "      <td>0</td>\n",
       "      <td>0</td>\n",
       "      <td>NaN</td>\n",
       "      <td>NaN</td>\n",
       "    </tr>\n",
       "    <tr>\n",
       "      <th>2</th>\n",
       "      <td>0.841110</td>\n",
       "      <td>0.02</td>\n",
       "      <td>0.384615</td>\n",
       "      <td>C3</td>\n",
       "      <td>4076</td>\n",
       "      <td>1</td>\n",
       "      <td>A</td>\n",
       "      <td>M1</td>\n",
       "      <td>CNG</td>\n",
       "      <td>60.0</td>\n",
       "      <td>...</td>\n",
       "      <td>No</td>\n",
       "      <td>Yes</td>\n",
       "      <td>No</td>\n",
       "      <td>No</td>\n",
       "      <td>No</td>\n",
       "      <td>Yes</td>\n",
       "      <td>0</td>\n",
       "      <td>0</td>\n",
       "      <td>NaN</td>\n",
       "      <td>NaN</td>\n",
       "    </tr>\n",
       "    <tr>\n",
       "      <th>3</th>\n",
       "      <td>0.900277</td>\n",
       "      <td>0.11</td>\n",
       "      <td>0.432692</td>\n",
       "      <td>C4</td>\n",
       "      <td>21622</td>\n",
       "      <td>1</td>\n",
       "      <td>C1</td>\n",
       "      <td>M2</td>\n",
       "      <td>Petrol</td>\n",
       "      <td>113.0</td>\n",
       "      <td>...</td>\n",
       "      <td>Yes</td>\n",
       "      <td>Yes</td>\n",
       "      <td>Yes</td>\n",
       "      <td>Yes</td>\n",
       "      <td>Yes</td>\n",
       "      <td>Yes</td>\n",
       "      <td>2</td>\n",
       "      <td>0</td>\n",
       "      <td>NaN</td>\n",
       "      <td>NaN</td>\n",
       "    </tr>\n",
       "    <tr>\n",
       "      <th>4</th>\n",
       "      <td>0.596403</td>\n",
       "      <td>0.11</td>\n",
       "      <td>0.634615</td>\n",
       "      <td>C5</td>\n",
       "      <td>34738</td>\n",
       "      <td>2</td>\n",
       "      <td>A</td>\n",
       "      <td>M3</td>\n",
       "      <td>Petrol</td>\n",
       "      <td>91.0</td>\n",
       "      <td>...</td>\n",
       "      <td>Yes</td>\n",
       "      <td>Yes</td>\n",
       "      <td>No</td>\n",
       "      <td>Yes</td>\n",
       "      <td>Yes</td>\n",
       "      <td>Yes</td>\n",
       "      <td>2</td>\n",
       "      <td>0</td>\n",
       "      <td>NaN</td>\n",
       "      <td>NaN</td>\n",
       "    </tr>\n",
       "  </tbody>\n",
       "</table>\n",
       "<p>5 rows × 45 columns</p>\n",
       "</div>"
      ],
      "text/plain": [
       "   policy_tenure  age_of_car  age_of_policyholder area_cluster  \\\n",
       "0       0.515874        0.05             0.644231           C1   \n",
       "1       0.672619        0.02             0.375000           C2   \n",
       "2       0.841110        0.02             0.384615           C3   \n",
       "3       0.900277        0.11             0.432692           C4   \n",
       "4       0.596403        0.11             0.634615           C5   \n",
       "\n",
       "   population_density  make segment model fuel_type  max_torque  ...  \\\n",
       "0                4990     1       A    M1       CNG        60.0  ...   \n",
       "1               27003     1       A    M1       CNG        60.0  ...   \n",
       "2                4076     1       A    M1       CNG        60.0  ...   \n",
       "3               21622     1      C1    M2    Petrol       113.0  ...   \n",
       "4               34738     2       A    M3    Petrol        91.0  ...   \n",
       "\n",
       "   is_central_locking is_power_steering  is_driver_seat_height_adjustable  \\\n",
       "0                  No               Yes                                No   \n",
       "1                  No               Yes                                No   \n",
       "2                  No               Yes                                No   \n",
       "3                 Yes               Yes                               Yes   \n",
       "4                 Yes               Yes                                No   \n",
       "\n",
       "  is_day_night_rear_view_mirror is_ecw is_speed_alert ncap_rating is_claim  \\\n",
       "0                            No     No            Yes           0        0   \n",
       "1                            No     No            Yes           0        0   \n",
       "2                            No     No            Yes           0        0   \n",
       "3                           Yes    Yes            Yes           2        0   \n",
       "4                           Yes    Yes            Yes           2        0   \n",
       "\n",
       "  Unnamed: 44  Unnamed: 45  \n",
       "0         NaN          NaN  \n",
       "1         NaN          NaN  \n",
       "2         NaN          NaN  \n",
       "3         NaN          NaN  \n",
       "4         NaN          NaN  \n",
       "\n",
       "[5 rows x 45 columns]"
      ]
     },
     "execution_count": 336,
     "metadata": {},
     "output_type": "execute_result"
    }
   ],
   "source": [
    "#Examine the columns and first five rows of the dataset\n",
    "\n",
    "df.head()"
   ]
  },
  {
   "cell_type": "code",
   "execution_count": 337,
   "id": "9ff3fe64",
   "metadata": {},
   "outputs": [],
   "source": [
    "#Drop the unused columns containing the NaNs\n",
    "\n",
    "df.drop(['Unnamed: 44','Unnamed: 45'],axis=1, inplace=True)"
   ]
  },
  {
   "cell_type": "code",
   "execution_count": 338,
   "id": "a3d4e1c7",
   "metadata": {},
   "outputs": [
    {
     "data": {
      "text/plain": [
       "(58592, 43)"
      ]
     },
     "execution_count": 338,
     "metadata": {},
     "output_type": "execute_result"
    }
   ],
   "source": [
    "df.shape"
   ]
  },
  {
   "cell_type": "markdown",
   "id": "74203f7a",
   "metadata": {},
   "source": [
    "# Determine if there are any missing values (NaNs)in the dataset.\n"
   ]
  },
  {
   "cell_type": "code",
   "execution_count": 339,
   "id": "55abd7e1",
   "metadata": {},
   "outputs": [
    {
     "name": "stdout",
     "output_type": "stream",
     "text": [
      "There are no NaNs in the dataset\n"
     ]
    }
   ],
   "source": [
    "#Determine if there are any missing values (NaNs)in the dataset.\n",
    "\n",
    "if df.isna().sum().sum() >0:\n",
    "    \n",
    "    print('There are Nan values in the dataset')\n",
    "   \n",
    "else:\n",
    "        \n",
    "    print('There are no NaNs in the dataset')"
   ]
  },
  {
   "cell_type": "markdown",
   "id": "ca02271c",
   "metadata": {},
   "source": [
    "# Visualise the absense of NaNs on a heatmap."
   ]
  },
  {
   "cell_type": "code",
   "execution_count": 340,
   "id": "99c37184",
   "metadata": {},
   "outputs": [
    {
     "data": {
      "text/plain": [
       "<AxesSubplot:>"
      ]
     },
     "execution_count": 340,
     "metadata": {},
     "output_type": "execute_result"
    },
    {
     "data": {
      "image/png": "[encoded data removed]",
      "text/plain": [
       "<Figure size 432x288 with 1 Axes>"
      ]
     },
     "metadata": {
      "needs_background": "light"
     },
     "output_type": "display_data"
    }
   ],
   "source": [
    "#Visualise the absense of NaNs on a heatmap.\n",
    "\n",
    "sns.heatmap(df.isnull(), yticklabels = False, cbar = False, cmap = 'viridis')"
   ]
  },
  {
   "cell_type": "code",
   "execution_count": 341,
   "id": "1c639005",
   "metadata": {},
   "outputs": [
    {
     "data": {
      "text/plain": [
       "policy_tenure                       0\n",
       "age_of_car                          0\n",
       "age_of_policyholder                 0\n",
       "area_cluster                        0\n",
       "population_density                  0\n",
       "make                                0\n",
       "segment                             0\n",
       "model                               0\n",
       "fuel_type                           0\n",
       "max_torque                          0\n",
       "max_power                           0\n",
       "engine_type                         0\n",
       "airbags                             0\n",
       "is_esc                              0\n",
       "is_adjustable_steering              0\n",
       "is_tpms                             0\n",
       "is_parking_sensors                  0\n",
       "is_parking_camera                   0\n",
       "rear_brakes_type                    0\n",
       "displacement                        0\n",
       "cylinder                            0\n",
       "transmission_type                   0\n",
       "gear_box                            0\n",
       "steering_type                       0\n",
       "turning_radius                      0\n",
       "length                              0\n",
       "width                               0\n",
       "height                              0\n",
       "gross_weight                        0\n",
       "is_front_fog_lights                 0\n",
       "is_rear_window_wiper                0\n",
       "is_rear_window_washer               0\n",
       "is_rear_window_defogger             0\n",
       "is_brake_assist                     0\n",
       "is_power_door_locks                 0\n",
       "is_central_locking                  0\n",
       "is_power_steering                   0\n",
       "is_driver_seat_height_adjustable    0\n",
       "is_day_night_rear_view_mirror       0\n",
       "is_ecw                              0\n",
       "is_speed_alert                      0\n",
       "ncap_rating                         0\n",
       "is_claim                            0\n",
       "dtype: int64"
      ]
     },
     "execution_count": 341,
     "metadata": {},
     "output_type": "execute_result"
    }
   ],
   "source": [
    "df.isnull().sum()"
   ]
  },
  {
   "cell_type": "markdown",
   "id": "9366ba2a",
   "metadata": {},
   "source": [
    "# Create a boxplot to visualise the outliers in the dataset"
   ]
  },
  {
   "cell_type": "code",
   "execution_count": 342,
   "id": "61d551e6",
   "metadata": {},
   "outputs": [
    {
     "data": {
      "text/plain": [
       "<AxesSubplot:>"
      ]
     },
     "execution_count": 342,
     "metadata": {},
     "output_type": "execute_result"
    },
    {
     "data": {
      "image/png": "[encoded data removed]",
      "text/plain": [
       "<Figure size 2160x720 with 1 Axes>"
      ]
     },
     "metadata": {
      "needs_background": "light"
     },
     "output_type": "display_data"
    }
   ],
   "source": [
    "#Create a boxplot to visualise the outliers in the dataset\n",
    "\n",
    "%matplotlib inline\n",
    "df['is_claim'] = pd.to_numeric(df['is_claim'])\n",
    "df.boxplot(figsize=(30,10))"
   ]
  },
  {
   "cell_type": "markdown",
   "id": "2fcbfb5a",
   "metadata": {},
   "source": [
    "# Remove instances containing attributes +/- 1.5 * IQR\n",
    "\n",
    "# Define a function to identify and replace the outliers in the dataset using the IQR method\n"
   ]
  },
  {
   "cell_type": "code",
   "execution_count": 343,
   "id": "44a03e90",
   "metadata": {},
   "outputs": [
    {
     "name": "stdout",
     "output_type": "stream",
     "text": [
      "The Shape of the DataFrame before removing outliers: (58592, 43)\n"
     ]
    },
    {
     "name": "stderr",
     "output_type": "stream",
     "text": [
      "/var/folders/vm/h0283fpj6bjgpjpkwfgxh28c0000gn/T/ipykernel_1340/2020466121.py:13: FutureWarning: Automatic reindexing on DataFrame vs Series comparisons is deprecated and will raise ValueError in a future version.  Do `left, right = left.align(right, axis=1, copy=False)` before e.g. `left == right`\n",
      "  outliers = ((df < (q1 - 1.5 * iqr)) | (df > (q3 + 1.5 * iqr))).sum()\n"
     ]
    },
    {
     "name": "stdout",
     "output_type": "stream",
     "text": [
      "The Number of outliers in each feature:\n",
      " age_of_car                            269\n",
      "age_of_policyholder                   221\n",
      "airbags                                 0\n",
      "area_cluster                            0\n",
      "cylinder                                0\n",
      "displacement                            0\n",
      "engine_type                             0\n",
      "fuel_type                               0\n",
      "gear_box                            14381\n",
      "gross_weight                            0\n",
      "height                                  0\n",
      "is_adjustable_steering                  0\n",
      "is_brake_assist                         0\n",
      "is_central_locking                      0\n",
      "is_claim                                0\n",
      "is_day_night_rear_view_mirror           0\n",
      "is_driver_seat_height_adjustable        0\n",
      "is_ecw                                  0\n",
      "is_esc                                  0\n",
      "is_front_fog_lights                     0\n",
      "is_parking_camera                       0\n",
      "is_parking_sensors                      0\n",
      "is_power_door_locks                     0\n",
      "is_power_steering                       0\n",
      "is_rear_window_defogger                 0\n",
      "is_rear_window_washer                   0\n",
      "is_rear_window_wiper                    0\n",
      "is_speed_alert                          0\n",
      "is_tpms                                 0\n",
      "length                                  0\n",
      "make                                    0\n",
      "max_power                               0\n",
      "max_torque                              0\n",
      "model                                   0\n",
      "ncap_rating                             0\n",
      "policy_tenure                           0\n",
      "population_density                   3647\n",
      "rear_brakes_type                        0\n",
      "segment                                 0\n",
      "steering_type                           0\n",
      "transmission_type                       0\n",
      "turning_radius                          0\n",
      "width                                   0\n",
      "dtype: int64\n"
     ]
    },
    {
     "name": "stderr",
     "output_type": "stream",
     "text": [
      "/var/folders/vm/h0283fpj6bjgpjpkwfgxh28c0000gn/T/ipykernel_1340/2020466121.py:17: FutureWarning: Automatic reindexing on DataFrame vs Series comparisons is deprecated and will raise ValueError in a future version.  Do `left, right = left.align(right, axis=1, copy=False)` before e.g. `left == right`\n",
      "  df = df[~((df < (q1 - 1.5 * iqr)) | (df > (q3 + 1.5 * iqr))).any(axis=1)]\n"
     ]
    },
    {
     "name": "stdout",
     "output_type": "stream",
     "text": [
      "The Shape of the DataFrame after removinng outliers: (40914, 43)\n"
     ]
    }
   ],
   "source": [
    "#remove instances containing attributes +/- 1.5 * IQR\n",
    "#Define a function to identify and replace the outliers in the dataset using the IQR method\n",
    "\n",
    "#Print the shape of the DataFrame before removing the outliers\n",
    "print('The Shape of the DataFrame before removing outliers:', df.shape)\n",
    "\n",
    "#Calculate the IQR for each column (excluding is_claim)\n",
    "q1 = df.drop('is_claim',axis=1).quantile(0.25)\n",
    "q3 = df.drop('is_claim',axis=1).quantile(0.75)\n",
    "iqr = q3-q1\n",
    "\n",
    "#Identify the outliers\n",
    "outliers = ((df < (q1 - 1.5 * iqr)) | (df > (q3 + 1.5 * iqr))).sum()\n",
    "print('The Number of outliers in each feature:\\n', outliers)\n",
    "\n",
    "#Remove the outliers \n",
    "df = df[~((df < (q1 - 1.5 * iqr)) | (df > (q3 + 1.5 * iqr))).any(axis=1)]\n",
    "\n",
    "#Print the shape of the DataFrame after removing the outliers\n",
    "print('The Shape of the DataFrame after removinng outliers:', df.shape)"
   ]
  },
  {
   "cell_type": "code",
   "execution_count": 344,
   "id": "f0a35768",
   "metadata": {
    "scrolled": true
   },
   "outputs": [
    {
     "data": {
      "text/html": [
       "<div>\n",
       "<style scoped>\n",
       "    .dataframe tbody tr th:only-of-type {\n",
       "        vertical-align: middle;\n",
       "    }\n",
       "\n",
       "    .dataframe tbody tr th {\n",
       "        vertical-align: top;\n",
       "    }\n",
       "\n",
       "    .dataframe thead th {\n",
       "        text-align: right;\n",
       "    }\n",
       "</style>\n",
       "<table border=\"1\" class=\"dataframe\">\n",
       "  <thead>\n",
       "    <tr style=\"text-align: right;\">\n",
       "      <th></th>\n",
       "      <th>policy_tenure</th>\n",
       "      <th>age_of_car</th>\n",
       "      <th>age_of_policyholder</th>\n",
       "      <th>area_cluster</th>\n",
       "      <th>population_density</th>\n",
       "      <th>make</th>\n",
       "      <th>segment</th>\n",
       "      <th>model</th>\n",
       "      <th>fuel_type</th>\n",
       "      <th>max_torque</th>\n",
       "      <th>...</th>\n",
       "      <th>is_brake_assist</th>\n",
       "      <th>is_power_door_locks</th>\n",
       "      <th>is_central_locking</th>\n",
       "      <th>is_power_steering</th>\n",
       "      <th>is_driver_seat_height_adjustable</th>\n",
       "      <th>is_day_night_rear_view_mirror</th>\n",
       "      <th>is_ecw</th>\n",
       "      <th>is_speed_alert</th>\n",
       "      <th>ncap_rating</th>\n",
       "      <th>is_claim</th>\n",
       "    </tr>\n",
       "  </thead>\n",
       "  <tbody>\n",
       "    <tr>\n",
       "      <th>0</th>\n",
       "      <td>0.515874</td>\n",
       "      <td>0.05</td>\n",
       "      <td>0.644231</td>\n",
       "      <td>C1</td>\n",
       "      <td>4990</td>\n",
       "      <td>1</td>\n",
       "      <td>A</td>\n",
       "      <td>M1</td>\n",
       "      <td>CNG</td>\n",
       "      <td>60.0</td>\n",
       "      <td>...</td>\n",
       "      <td>No</td>\n",
       "      <td>No</td>\n",
       "      <td>No</td>\n",
       "      <td>Yes</td>\n",
       "      <td>No</td>\n",
       "      <td>No</td>\n",
       "      <td>No</td>\n",
       "      <td>Yes</td>\n",
       "      <td>0</td>\n",
       "      <td>0</td>\n",
       "    </tr>\n",
       "    <tr>\n",
       "      <th>1</th>\n",
       "      <td>0.672619</td>\n",
       "      <td>0.02</td>\n",
       "      <td>0.375000</td>\n",
       "      <td>C2</td>\n",
       "      <td>27003</td>\n",
       "      <td>1</td>\n",
       "      <td>A</td>\n",
       "      <td>M1</td>\n",
       "      <td>CNG</td>\n",
       "      <td>60.0</td>\n",
       "      <td>...</td>\n",
       "      <td>No</td>\n",
       "      <td>No</td>\n",
       "      <td>No</td>\n",
       "      <td>Yes</td>\n",
       "      <td>No</td>\n",
       "      <td>No</td>\n",
       "      <td>No</td>\n",
       "      <td>Yes</td>\n",
       "      <td>0</td>\n",
       "      <td>0</td>\n",
       "    </tr>\n",
       "    <tr>\n",
       "      <th>2</th>\n",
       "      <td>0.841110</td>\n",
       "      <td>0.02</td>\n",
       "      <td>0.384615</td>\n",
       "      <td>C3</td>\n",
       "      <td>4076</td>\n",
       "      <td>1</td>\n",
       "      <td>A</td>\n",
       "      <td>M1</td>\n",
       "      <td>CNG</td>\n",
       "      <td>60.0</td>\n",
       "      <td>...</td>\n",
       "      <td>No</td>\n",
       "      <td>No</td>\n",
       "      <td>No</td>\n",
       "      <td>Yes</td>\n",
       "      <td>No</td>\n",
       "      <td>No</td>\n",
       "      <td>No</td>\n",
       "      <td>Yes</td>\n",
       "      <td>0</td>\n",
       "      <td>0</td>\n",
       "    </tr>\n",
       "    <tr>\n",
       "      <th>3</th>\n",
       "      <td>0.900277</td>\n",
       "      <td>0.11</td>\n",
       "      <td>0.432692</td>\n",
       "      <td>C4</td>\n",
       "      <td>21622</td>\n",
       "      <td>1</td>\n",
       "      <td>C1</td>\n",
       "      <td>M2</td>\n",
       "      <td>Petrol</td>\n",
       "      <td>113.0</td>\n",
       "      <td>...</td>\n",
       "      <td>Yes</td>\n",
       "      <td>Yes</td>\n",
       "      <td>Yes</td>\n",
       "      <td>Yes</td>\n",
       "      <td>Yes</td>\n",
       "      <td>Yes</td>\n",
       "      <td>Yes</td>\n",
       "      <td>Yes</td>\n",
       "      <td>2</td>\n",
       "      <td>0</td>\n",
       "    </tr>\n",
       "    <tr>\n",
       "      <th>4</th>\n",
       "      <td>0.596403</td>\n",
       "      <td>0.11</td>\n",
       "      <td>0.634615</td>\n",
       "      <td>C5</td>\n",
       "      <td>34738</td>\n",
       "      <td>2</td>\n",
       "      <td>A</td>\n",
       "      <td>M3</td>\n",
       "      <td>Petrol</td>\n",
       "      <td>91.0</td>\n",
       "      <td>...</td>\n",
       "      <td>No</td>\n",
       "      <td>Yes</td>\n",
       "      <td>Yes</td>\n",
       "      <td>Yes</td>\n",
       "      <td>No</td>\n",
       "      <td>Yes</td>\n",
       "      <td>Yes</td>\n",
       "      <td>Yes</td>\n",
       "      <td>2</td>\n",
       "      <td>0</td>\n",
       "    </tr>\n",
       "  </tbody>\n",
       "</table>\n",
       "<p>5 rows × 43 columns</p>\n",
       "</div>"
      ],
      "text/plain": [
       "   policy_tenure  age_of_car  age_of_policyholder area_cluster  \\\n",
       "0       0.515874        0.05             0.644231           C1   \n",
       "1       0.672619        0.02             0.375000           C2   \n",
       "2       0.841110        0.02             0.384615           C3   \n",
       "3       0.900277        0.11             0.432692           C4   \n",
       "4       0.596403        0.11             0.634615           C5   \n",
       "\n",
       "   population_density  make segment model fuel_type  max_torque  ...  \\\n",
       "0                4990     1       A    M1       CNG        60.0  ...   \n",
       "1               27003     1       A    M1       CNG        60.0  ...   \n",
       "2                4076     1       A    M1       CNG        60.0  ...   \n",
       "3               21622     1      C1    M2    Petrol       113.0  ...   \n",
       "4               34738     2       A    M3    Petrol        91.0  ...   \n",
       "\n",
       "   is_brake_assist is_power_door_locks  is_central_locking is_power_steering  \\\n",
       "0               No                  No                  No               Yes   \n",
       "1               No                  No                  No               Yes   \n",
       "2               No                  No                  No               Yes   \n",
       "3              Yes                 Yes                 Yes               Yes   \n",
       "4               No                 Yes                 Yes               Yes   \n",
       "\n",
       "  is_driver_seat_height_adjustable is_day_night_rear_view_mirror is_ecw  \\\n",
       "0                               No                            No     No   \n",
       "1                               No                            No     No   \n",
       "2                               No                            No     No   \n",
       "3                              Yes                           Yes    Yes   \n",
       "4                               No                           Yes    Yes   \n",
       "\n",
       "  is_speed_alert ncap_rating  is_claim  \n",
       "0            Yes           0         0  \n",
       "1            Yes           0         0  \n",
       "2            Yes           0         0  \n",
       "3            Yes           2         0  \n",
       "4            Yes           2         0  \n",
       "\n",
       "[5 rows x 43 columns]"
      ]
     },
     "execution_count": 344,
     "metadata": {},
     "output_type": "execute_result"
    }
   ],
   "source": [
    "df.head()"
   ]
  },
  {
   "cell_type": "code",
   "execution_count": 345,
   "id": "0ac43aee",
   "metadata": {},
   "outputs": [
    {
     "data": {
      "text/plain": [
       "<Figure size 3600x3600 with 0 Axes>"
      ]
     },
     "execution_count": 345,
     "metadata": {},
     "output_type": "execute_result"
    },
    {
     "data": {
      "image/png": "[encoded data removed]",
      "text/plain": [
       "<Figure size 432x288 with 2 Axes>"
      ]
     },
     "metadata": {
      "needs_background": "light"
     },
     "output_type": "display_data"
    },
    {
     "data": {
      "text/plain": [
       "<Figure size 3600x3600 with 0 Axes>"
      ]
     },
     "metadata": {},
     "output_type": "display_data"
    }
   ],
   "source": [
    "#Create a heatmap of the correlations between the data in the dataframe\n",
    "corr = df.corr()\n",
    "sns.heatmap(corr, annot=True)\n",
    "plt.title(\"Correlation Heatmap of the Dataset\", fontsize=16)\n",
    "plt.figure(figsize=(50,50))"
   ]
  },
  {
   "cell_type": "code",
   "execution_count": 346,
   "id": "d7d34763",
   "metadata": {
    "scrolled": true
   },
   "outputs": [
    {
     "data": {
      "text/plain": [
       "<AxesSubplot:xlabel='is_claim', ylabel='count'>"
      ]
     },
     "execution_count": 346,
     "metadata": {},
     "output_type": "execute_result"
    },
    {
     "data": {
      "image/png": "[encoded data removed]",
      "text/plain": [
       "<Figure size 432x288 with 1 Axes>"
      ]
     },
     "metadata": {},
     "output_type": "display_data"
    }
   ],
   "source": [
    "#What are the amount of policyholders in the dataset that have made claims\n",
    "sns.set_style('whitegrid')\n",
    "sns.countplot(x='is_claim',data=df,palette='RdBu_r')\n",
    "              "
   ]
  },
  {
   "cell_type": "code",
   "execution_count": 347,
   "id": "95cbdc9a",
   "metadata": {},
   "outputs": [
    {
     "data": {
      "text/plain": [
       "<AxesSubplot:xlabel='is_claim', ylabel='count'>"
      ]
     },
     "execution_count": 347,
     "metadata": {},
     "output_type": "execute_result"
    },
    {
     "data": {
      "image/png": "[encoded data removed]",
      "text/plain": [
       "<Figure size 432x288 with 1 Axes>"
      ]
     },
     "metadata": {},
     "output_type": "display_data"
    }
   ],
   "source": [
    "#Policy Claims broken down by NCAP Safety Rating of Vehicles\n",
    "sns.set_style('whitegrid')\n",
    "sns.countplot(x='is_claim',hue='ncap_rating',data=df,palette='RdBu_r')\n"
   ]
  },
  {
   "cell_type": "code",
   "execution_count": 348,
   "id": "5bcb9670",
   "metadata": {},
   "outputs": [
    {
     "data": {
      "text/plain": [
       "<seaborn.axisgrid.FacetGrid at 0x7ff3e8c9f1f0>"
      ]
     },
     "execution_count": 348,
     "metadata": {},
     "output_type": "execute_result"
    },
    {
     "data": {
      "image/png": "[encoded data removed]",
      "text/plain": [
       "<Figure size 360x360 with 1 Axes>"
      ]
     },
     "metadata": {},
     "output_type": "display_data"
    }
   ],
   "source": [
    "#The distribution of the ages of policyholders\n",
    "sns.displot(df['age_of_policyholder'],kde=False,color='blue', bins=80)"
   ]
  },
  {
   "cell_type": "code",
   "execution_count": 349,
   "id": "e122edec",
   "metadata": {},
   "outputs": [
    {
     "name": "stdout",
     "output_type": "stream",
     "text": [
      "<class 'pandas.core.frame.DataFrame'>\n",
      "Int64Index: 40914 entries, 0 to 58590\n",
      "Data columns (total 43 columns):\n",
      " #   Column                            Non-Null Count  Dtype  \n",
      "---  ------                            --------------  -----  \n",
      " 0   policy_tenure                     40914 non-null  float64\n",
      " 1   age_of_car                        40914 non-null  float64\n",
      " 2   age_of_policyholder               40914 non-null  float64\n",
      " 3   area_cluster                      40914 non-null  object \n",
      " 4   population_density                40914 non-null  int64  \n",
      " 5   make                              40914 non-null  int64  \n",
      " 6   segment                           40914 non-null  object \n",
      " 7   model                             40914 non-null  object \n",
      " 8   fuel_type                         40914 non-null  object \n",
      " 9   max_torque                        40914 non-null  float64\n",
      " 10  max_power                         40914 non-null  float64\n",
      " 11  engine_type                       40914 non-null  object \n",
      " 12  airbags                           40914 non-null  int64  \n",
      " 13  is_esc                            40914 non-null  object \n",
      " 14  is_adjustable_steering            40914 non-null  object \n",
      " 15  is_tpms                           40914 non-null  object \n",
      " 16  is_parking_sensors                40914 non-null  object \n",
      " 17  is_parking_camera                 40914 non-null  object \n",
      " 18  rear_brakes_type                  40914 non-null  object \n",
      " 19  displacement                      40914 non-null  int64  \n",
      " 20  cylinder                          40914 non-null  int64  \n",
      " 21  transmission_type                 40914 non-null  object \n",
      " 22  gear_box                          40914 non-null  int64  \n",
      " 23  steering_type                     40914 non-null  object \n",
      " 24  turning_radius                    40914 non-null  float64\n",
      " 25  length                            40914 non-null  int64  \n",
      " 26  width                             40914 non-null  int64  \n",
      " 27  height                            40914 non-null  int64  \n",
      " 28  gross_weight                      40914 non-null  int64  \n",
      " 29  is_front_fog_lights               40914 non-null  object \n",
      " 30  is_rear_window_wiper              40914 non-null  object \n",
      " 31  is_rear_window_washer             40914 non-null  object \n",
      " 32  is_rear_window_defogger           40914 non-null  object \n",
      " 33  is_brake_assist                   40914 non-null  object \n",
      " 34  is_power_door_locks               40914 non-null  object \n",
      " 35  is_central_locking                40914 non-null  object \n",
      " 36  is_power_steering                 40914 non-null  object \n",
      " 37  is_driver_seat_height_adjustable  40914 non-null  object \n",
      " 38  is_day_night_rear_view_mirror     40914 non-null  object \n",
      " 39  is_ecw                            40914 non-null  object \n",
      " 40  is_speed_alert                    40914 non-null  object \n",
      " 41  ncap_rating                       40914 non-null  int64  \n",
      " 42  is_claim                          40914 non-null  int64  \n",
      "dtypes: float64(6), int64(12), object(25)\n",
      "memory usage: 14.7+ MB\n"
     ]
    }
   ],
   "source": [
    "df.info()"
   ]
  },
  {
   "cell_type": "markdown",
   "id": "f82de95d",
   "metadata": {},
   "source": [
    "# Utilising boxplots to visualise the distribution of each feature in the dataset by the \"is_claim\" feature\n"
   ]
  },
  {
   "cell_type": "code",
   "execution_count": 350,
   "id": "62b86efc",
   "metadata": {},
   "outputs": [
    {
     "data": {
      "image/png": "[encoded data removed]",
      "text/plain": [
       "<Figure size 432x288 with 1 Axes>"
      ]
     },
     "metadata": {},
     "output_type": "display_data"
    }
   ],
   "source": [
    "#Utilising boxplots to visualise the distribution of each feature in the dataset by the \"is_claim\" feature\n",
    "\n",
    "sns.boxplot(x=\"is_claim\", y=\"policy_tenure\", data=df)\n",
    "plt.title(\"Distribution of Policy Tenure by Is_Claim\")\n",
    "plt.show()"
   ]
  },
  {
   "cell_type": "code",
   "execution_count": 351,
   "id": "914ecc06",
   "metadata": {},
   "outputs": [
    {
     "data": {
      "image/png": "[encoded data removed]",
      "text/plain": [
       "<Figure size 432x288 with 1 Axes>"
      ]
     },
     "metadata": {},
     "output_type": "display_data"
    }
   ],
   "source": [
    "#Utilising boxplots to visualise the distribution of each feature in the dataset by the \"is_claim\" feature\n",
    "\n",
    "sns.boxplot(x=\"is_claim\", y=\"policy_tenure\", data=df)\n",
    "plt.title(\"Distribution of Policy Tenure by Is_Claim\")\n",
    "plt.show()"
   ]
  },
  {
   "cell_type": "code",
   "execution_count": 352,
   "id": "40efbe07",
   "metadata": {},
   "outputs": [
    {
     "data": {
      "image/png": "[encoded data removed]",
      "text/plain": [
       "<Figure size 432x288 with 1 Axes>"
      ]
     },
     "metadata": {},
     "output_type": "display_data"
    }
   ],
   "source": [
    "#Utilising boxplots to visualise the distribution of each feature in the dataset by the \"is_claim\" feature\n",
    "\n",
    "sns.boxplot(x=\"is_claim\", y=\"age_of_policyholder\", data=df)\n",
    "plt.title(\"Distribution of Age of Policyholder by Is_Claim\")\n",
    "plt.show()"
   ]
  },
  {
   "cell_type": "code",
   "execution_count": 353,
   "id": "5debfe16",
   "metadata": {},
   "outputs": [
    {
     "data": {
      "image/png": "[encoded data removed]",
      "text/plain": [
       "<Figure size 432x288 with 1 Axes>"
      ]
     },
     "metadata": {},
     "output_type": "display_data"
    }
   ],
   "source": [
    "#Utilising boxplots to visualise the distribution of each feature in the dataset by the \"is_claim\" feature\n",
    "\n",
    "sns.boxplot(x=\"is_claim\", y=\"population_density\", data=df)\n",
    "plt.title(\"Distribution of Population Density by Is_Claim\")\n",
    "plt.show()"
   ]
  },
  {
   "cell_type": "code",
   "execution_count": 354,
   "id": "7cadda10",
   "metadata": {},
   "outputs": [
    {
     "data": {
      "image/png": "[encoded data removed]",
      "text/plain": [
       "<Figure size 432x288 with 1 Axes>"
      ]
     },
     "metadata": {},
     "output_type": "display_data"
    }
   ],
   "source": [
    "#Utilising boxplots to visualise the distribution of each feature in the dataset by the \"is_claim\" feature\n",
    "\n",
    "sns.boxplot(x=\"is_claim\", y=\"max_torque\", data=df)\n",
    "plt.title(\"Distribution of Max Torque by Is_Claim\")\n",
    "plt.show()"
   ]
  },
  {
   "cell_type": "code",
   "execution_count": 355,
   "id": "960ae48e",
   "metadata": {},
   "outputs": [
    {
     "data": {
      "image/png": "[encoded data removed]",
      "text/plain": [
       "<Figure size 432x288 with 1 Axes>"
      ]
     },
     "metadata": {},
     "output_type": "display_data"
    }
   ],
   "source": [
    "#Utilising boxplots to visualise the distribution of each feature in the dataset by the \"is_claim\" feature\n",
    "\n",
    "sns.boxplot(x=\"is_claim\", y=\"max_power\", data=df)\n",
    "plt.title(\"Distribution of Max Power by Is_Claim\")\n",
    "plt.show()"
   ]
  },
  {
   "cell_type": "code",
   "execution_count": 356,
   "id": "7cab81af",
   "metadata": {},
   "outputs": [
    {
     "data": {
      "image/png": "[encoded data removed]",
      "text/plain": [
       "<Figure size 432x288 with 1 Axes>"
      ]
     },
     "metadata": {},
     "output_type": "display_data"
    }
   ],
   "source": [
    "#Utilising boxplots to visualise the distribution of each feature in the dataset by the \"is_claim\" feature\n",
    "\n",
    "sns.boxplot(x=\"is_claim\", y=\"policy_tenure\", data=df)\n",
    "plt.title(\"Distribution of Policy Tenure by Is_Claim\")\n",
    "plt.show()"
   ]
  },
  {
   "cell_type": "code",
   "execution_count": 357,
   "id": "5870eb7c",
   "metadata": {},
   "outputs": [
    {
     "data": {
      "image/png": "[encoded data removed]",
      "text/plain": [
       "<Figure size 432x288 with 1 Axes>"
      ]
     },
     "metadata": {},
     "output_type": "display_data"
    }
   ],
   "source": [
    "#Utilising boxplots to visualise the distribution of each feature in the dataset by the \"is_claim\" feature\n",
    "\n",
    "sns.boxplot(x=\"is_claim\", y=\"airbags\", data=df)\n",
    "plt.title(\"Distribution of Airbags by Is_Claim\")\n",
    "plt.show()"
   ]
  },
  {
   "cell_type": "code",
   "execution_count": 358,
   "id": "379b1f95",
   "metadata": {},
   "outputs": [
    {
     "data": {
      "image/png": "[encoded data removed]",
      "text/plain": [
       "<Figure size 432x288 with 1 Axes>"
      ]
     },
     "metadata": {},
     "output_type": "display_data"
    }
   ],
   "source": [
    "#Utilising boxplots to visualise the distribution of each feature in the dataset by the \"is_claim\" feature\n",
    "\n",
    "sns.boxplot(x=\"is_claim\", y=\"policy_tenure\", data=df)\n",
    "plt.title(\"Distribution of Policy Tenure by Is_Claim\")\n",
    "plt.show()"
   ]
  },
  {
   "cell_type": "code",
   "execution_count": 359,
   "id": "27f0317d",
   "metadata": {},
   "outputs": [
    {
     "data": {
      "image/png": "[encoded data removed]",
      "text/plain": [
       "<Figure size 432x288 with 1 Axes>"
      ]
     },
     "metadata": {},
     "output_type": "display_data"
    }
   ],
   "source": [
    "#Utilising boxplots to visualise the distribution of each feature in the dataset by the \"is_claim\" feature\n",
    "\n",
    "sns.boxplot(x=\"is_claim\", y=\"displacement\", data=df)\n",
    "plt.title(\"Distribution of Displacement by Is_Claim\")\n",
    "plt.show()"
   ]
  },
  {
   "cell_type": "code",
   "execution_count": 360,
   "id": "67c6fa94",
   "metadata": {},
   "outputs": [
    {
     "data": {
      "image/png": "[encoded data removed]",
      "text/plain": [
       "<Figure size 432x288 with 1 Axes>"
      ]
     },
     "metadata": {},
     "output_type": "display_data"
    }
   ],
   "source": [
    "#Utilising boxplots to visualise the distribution of each feature in the dataset by the \"is_claim\" feature\n",
    "\n",
    "sns.boxplot(x=\"is_claim\", y=\"cylinder\", data=df)\n",
    "plt.title(\"Distribution of Cylinder by Is_Claim\")\n",
    "plt.show()"
   ]
  },
  {
   "cell_type": "code",
   "execution_count": 361,
   "id": "9bf2e4f0",
   "metadata": {},
   "outputs": [
    {
     "data": {
      "image/png": "[encoded data removed]",
      "text/plain": [
       "<Figure size 432x288 with 1 Axes>"
      ]
     },
     "metadata": {},
     "output_type": "display_data"
    }
   ],
   "source": [
    "#Utilising boxplots to visualise the distribution of each feature in the dataset by the \"is_claim\" feature\n",
    "\n",
    "sns.boxplot(x=\"is_claim\", y=\"ncap_rating\", data=df)\n",
    "plt.title(\"Distribution of Policy Tenure by NCAP Rating\")\n",
    "plt.show()"
   ]
  },
  {
   "cell_type": "markdown",
   "id": "51aead3b",
   "metadata": {},
   "source": [
    "## b) Feature Extraction / Feature Engineering"
   ]
  },
  {
   "cell_type": "code",
   "execution_count": 362,
   "id": "054c3365",
   "metadata": {
    "scrolled": true
   },
   "outputs": [
    {
     "name": "stdout",
     "output_type": "stream",
     "text": [
      "policy_tenure                       float64\n",
      "age_of_car                          float64\n",
      "age_of_policyholder                 float64\n",
      "area_cluster                         object\n",
      "population_density                    int64\n",
      "make                                  int64\n",
      "segment                              object\n",
      "model                                object\n",
      "fuel_type                            object\n",
      "max_torque                          float64\n",
      "max_power                           float64\n",
      "engine_type                          object\n",
      "airbags                               int64\n",
      "is_esc                               object\n",
      "is_adjustable_steering               object\n",
      "is_tpms                              object\n",
      "is_parking_sensors                   object\n",
      "is_parking_camera                    object\n",
      "rear_brakes_type                     object\n",
      "displacement                          int64\n",
      "cylinder                              int64\n",
      "transmission_type                    object\n",
      "gear_box                              int64\n",
      "steering_type                        object\n",
      "turning_radius                      float64\n",
      "length                                int64\n",
      "width                                 int64\n",
      "height                                int64\n",
      "gross_weight                          int64\n",
      "is_front_fog_lights                  object\n",
      "is_rear_window_wiper                 object\n",
      "is_rear_window_washer                object\n",
      "is_rear_window_defogger              object\n",
      "is_brake_assist                      object\n",
      "is_power_door_locks                  object\n",
      "is_central_locking                   object\n",
      "is_power_steering                    object\n",
      "is_driver_seat_height_adjustable     object\n",
      "is_day_night_rear_view_mirror        object\n",
      "is_ecw                               object\n",
      "is_speed_alert                       object\n",
      "ncap_rating                           int64\n",
      "is_claim                              int64\n",
      "dtype: object\n"
     ]
    }
   ],
   "source": [
    "print(df.dtypes)"
   ]
  },
  {
   "cell_type": "markdown",
   "id": "66d7e043",
   "metadata": {},
   "source": [
    "# Encode the dataset to address categorical variables for use in the regression models:"
   ]
  },
  {
   "cell_type": "code",
   "execution_count": 363,
   "id": "6ecd9719",
   "metadata": {},
   "outputs": [],
   "source": [
    "#Encode the dataset to address categorical variables for use in the regression models:\n",
    "df_encoded = pd.get_dummies(df)"
   ]
  },
  {
   "cell_type": "code",
   "execution_count": 364,
   "id": "ad3c96a3",
   "metadata": {},
   "outputs": [
    {
     "data": {
      "text/plain": [
       "(40914, 102)"
      ]
     },
     "execution_count": 364,
     "metadata": {},
     "output_type": "execute_result"
    }
   ],
   "source": [
    "df_encoded.shape"
   ]
  },
  {
   "cell_type": "code",
   "execution_count": 365,
   "id": "afb8f068",
   "metadata": {},
   "outputs": [
    {
     "data": {
      "text/html": [
       "<div>\n",
       "<style scoped>\n",
       "    .dataframe tbody tr th:only-of-type {\n",
       "        vertical-align: middle;\n",
       "    }\n",
       "\n",
       "    .dataframe tbody tr th {\n",
       "        vertical-align: top;\n",
       "    }\n",
       "\n",
       "    .dataframe thead th {\n",
       "        text-align: right;\n",
       "    }\n",
       "</style>\n",
       "<table border=\"1\" class=\"dataframe\">\n",
       "  <thead>\n",
       "    <tr style=\"text-align: right;\">\n",
       "      <th></th>\n",
       "      <th>policy_tenure</th>\n",
       "      <th>age_of_car</th>\n",
       "      <th>age_of_policyholder</th>\n",
       "      <th>population_density</th>\n",
       "      <th>make</th>\n",
       "      <th>max_torque</th>\n",
       "      <th>max_power</th>\n",
       "      <th>airbags</th>\n",
       "      <th>displacement</th>\n",
       "      <th>cylinder</th>\n",
       "      <th>...</th>\n",
       "      <th>is_central_locking_Yes</th>\n",
       "      <th>is_power_steering_No</th>\n",
       "      <th>is_power_steering_Yes</th>\n",
       "      <th>is_driver_seat_height_adjustable_No</th>\n",
       "      <th>is_driver_seat_height_adjustable_Yes</th>\n",
       "      <th>is_day_night_rear_view_mirror_No</th>\n",
       "      <th>is_day_night_rear_view_mirror_Yes</th>\n",
       "      <th>is_ecw_No</th>\n",
       "      <th>is_ecw_Yes</th>\n",
       "      <th>is_speed_alert_Yes</th>\n",
       "    </tr>\n",
       "  </thead>\n",
       "  <tbody>\n",
       "    <tr>\n",
       "      <th>0</th>\n",
       "      <td>0.515874</td>\n",
       "      <td>0.05</td>\n",
       "      <td>0.644231</td>\n",
       "      <td>4990</td>\n",
       "      <td>1</td>\n",
       "      <td>60.0</td>\n",
       "      <td>40.36</td>\n",
       "      <td>2</td>\n",
       "      <td>796</td>\n",
       "      <td>3</td>\n",
       "      <td>...</td>\n",
       "      <td>0</td>\n",
       "      <td>0</td>\n",
       "      <td>1</td>\n",
       "      <td>1</td>\n",
       "      <td>0</td>\n",
       "      <td>1</td>\n",
       "      <td>0</td>\n",
       "      <td>1</td>\n",
       "      <td>0</td>\n",
       "      <td>1</td>\n",
       "    </tr>\n",
       "    <tr>\n",
       "      <th>1</th>\n",
       "      <td>0.672619</td>\n",
       "      <td>0.02</td>\n",
       "      <td>0.375000</td>\n",
       "      <td>27003</td>\n",
       "      <td>1</td>\n",
       "      <td>60.0</td>\n",
       "      <td>40.36</td>\n",
       "      <td>2</td>\n",
       "      <td>796</td>\n",
       "      <td>3</td>\n",
       "      <td>...</td>\n",
       "      <td>0</td>\n",
       "      <td>0</td>\n",
       "      <td>1</td>\n",
       "      <td>1</td>\n",
       "      <td>0</td>\n",
       "      <td>1</td>\n",
       "      <td>0</td>\n",
       "      <td>1</td>\n",
       "      <td>0</td>\n",
       "      <td>1</td>\n",
       "    </tr>\n",
       "    <tr>\n",
       "      <th>2</th>\n",
       "      <td>0.841110</td>\n",
       "      <td>0.02</td>\n",
       "      <td>0.384615</td>\n",
       "      <td>4076</td>\n",
       "      <td>1</td>\n",
       "      <td>60.0</td>\n",
       "      <td>40.36</td>\n",
       "      <td>2</td>\n",
       "      <td>796</td>\n",
       "      <td>3</td>\n",
       "      <td>...</td>\n",
       "      <td>0</td>\n",
       "      <td>0</td>\n",
       "      <td>1</td>\n",
       "      <td>1</td>\n",
       "      <td>0</td>\n",
       "      <td>1</td>\n",
       "      <td>0</td>\n",
       "      <td>1</td>\n",
       "      <td>0</td>\n",
       "      <td>1</td>\n",
       "    </tr>\n",
       "    <tr>\n",
       "      <th>3</th>\n",
       "      <td>0.900277</td>\n",
       "      <td>0.11</td>\n",
       "      <td>0.432692</td>\n",
       "      <td>21622</td>\n",
       "      <td>1</td>\n",
       "      <td>113.0</td>\n",
       "      <td>88.50</td>\n",
       "      <td>2</td>\n",
       "      <td>1197</td>\n",
       "      <td>4</td>\n",
       "      <td>...</td>\n",
       "      <td>1</td>\n",
       "      <td>0</td>\n",
       "      <td>1</td>\n",
       "      <td>0</td>\n",
       "      <td>1</td>\n",
       "      <td>0</td>\n",
       "      <td>1</td>\n",
       "      <td>0</td>\n",
       "      <td>1</td>\n",
       "      <td>1</td>\n",
       "    </tr>\n",
       "    <tr>\n",
       "      <th>4</th>\n",
       "      <td>0.596403</td>\n",
       "      <td>0.11</td>\n",
       "      <td>0.634615</td>\n",
       "      <td>34738</td>\n",
       "      <td>2</td>\n",
       "      <td>91.0</td>\n",
       "      <td>67.06</td>\n",
       "      <td>2</td>\n",
       "      <td>999</td>\n",
       "      <td>3</td>\n",
       "      <td>...</td>\n",
       "      <td>1</td>\n",
       "      <td>0</td>\n",
       "      <td>1</td>\n",
       "      <td>1</td>\n",
       "      <td>0</td>\n",
       "      <td>0</td>\n",
       "      <td>1</td>\n",
       "      <td>0</td>\n",
       "      <td>1</td>\n",
       "      <td>1</td>\n",
       "    </tr>\n",
       "  </tbody>\n",
       "</table>\n",
       "<p>5 rows × 102 columns</p>\n",
       "</div>"
      ],
      "text/plain": [
       "   policy_tenure  age_of_car  age_of_policyholder  population_density  make  \\\n",
       "0       0.515874        0.05             0.644231                4990     1   \n",
       "1       0.672619        0.02             0.375000               27003     1   \n",
       "2       0.841110        0.02             0.384615                4076     1   \n",
       "3       0.900277        0.11             0.432692               21622     1   \n",
       "4       0.596403        0.11             0.634615               34738     2   \n",
       "\n",
       "   max_torque  max_power  airbags  displacement  cylinder  ...  \\\n",
       "0        60.0      40.36        2           796         3  ...   \n",
       "1        60.0      40.36        2           796         3  ...   \n",
       "2        60.0      40.36        2           796         3  ...   \n",
       "3       113.0      88.50        2          1197         4  ...   \n",
       "4        91.0      67.06        2           999         3  ...   \n",
       "\n",
       "   is_central_locking_Yes  is_power_steering_No  is_power_steering_Yes  \\\n",
       "0                       0                     0                      1   \n",
       "1                       0                     0                      1   \n",
       "2                       0                     0                      1   \n",
       "3                       1                     0                      1   \n",
       "4                       1                     0                      1   \n",
       "\n",
       "   is_driver_seat_height_adjustable_No  is_driver_seat_height_adjustable_Yes  \\\n",
       "0                                    1                                     0   \n",
       "1                                    1                                     0   \n",
       "2                                    1                                     0   \n",
       "3                                    0                                     1   \n",
       "4                                    1                                     0   \n",
       "\n",
       "   is_day_night_rear_view_mirror_No  is_day_night_rear_view_mirror_Yes  \\\n",
       "0                                 1                                  0   \n",
       "1                                 1                                  0   \n",
       "2                                 1                                  0   \n",
       "3                                 0                                  1   \n",
       "4                                 0                                  1   \n",
       "\n",
       "   is_ecw_No  is_ecw_Yes  is_speed_alert_Yes  \n",
       "0          1           0                   1  \n",
       "1          1           0                   1  \n",
       "2          1           0                   1  \n",
       "3          0           1                   1  \n",
       "4          0           1                   1  \n",
       "\n",
       "[5 rows x 102 columns]"
      ]
     },
     "execution_count": 365,
     "metadata": {},
     "output_type": "execute_result"
    }
   ],
   "source": [
    "df_encoded.head()"
   ]
  },
  {
   "cell_type": "code",
   "execution_count": 366,
   "id": "3960a5bb",
   "metadata": {},
   "outputs": [
    {
     "name": "stdout",
     "output_type": "stream",
     "text": [
      "policy_tenure                        float64\n",
      "age_of_car                           float64\n",
      "age_of_policyholder                  float64\n",
      "population_density                     int64\n",
      "make                                   int64\n",
      "                                      ...   \n",
      "is_day_night_rear_view_mirror_No       uint8\n",
      "is_day_night_rear_view_mirror_Yes      uint8\n",
      "is_ecw_No                              uint8\n",
      "is_ecw_Yes                             uint8\n",
      "is_speed_alert_Yes                     uint8\n",
      "Length: 102, dtype: object\n"
     ]
    }
   ],
   "source": [
    "print(df_encoded.dtypes)"
   ]
  },
  {
   "cell_type": "markdown",
   "id": "f8748584",
   "metadata": {},
   "source": [
    "# Feature Engineering - Performing normalisation to scale the data"
   ]
  },
  {
   "cell_type": "code",
   "execution_count": 367,
   "id": "0a356404",
   "metadata": {},
   "outputs": [],
   "source": [
    "#Feature Engineering - Performing normalisation to scale the data\n",
    "\n",
    "from sklearn.preprocessing import MinMaxScaler\n",
    "\n",
    "scaler = MinMaxScaler()\n",
    "\n",
    "df_scaled = pd.DataFrame(scaler.fit_transform(df_encoded), columns=df_encoded.columns)"
   ]
  },
  {
   "cell_type": "code",
   "execution_count": 368,
   "id": "c419cfa2",
   "metadata": {
    "scrolled": true
   },
   "outputs": [
    {
     "data": {
      "text/html": [
       "<div>\n",
       "<style scoped>\n",
       "    .dataframe tbody tr th:only-of-type {\n",
       "        vertical-align: middle;\n",
       "    }\n",
       "\n",
       "    .dataframe tbody tr th {\n",
       "        vertical-align: top;\n",
       "    }\n",
       "\n",
       "    .dataframe thead th {\n",
       "        text-align: right;\n",
       "    }\n",
       "</style>\n",
       "<table border=\"1\" class=\"dataframe\">\n",
       "  <thead>\n",
       "    <tr style=\"text-align: right;\">\n",
       "      <th></th>\n",
       "      <th>policy_tenure</th>\n",
       "      <th>age_of_car</th>\n",
       "      <th>age_of_policyholder</th>\n",
       "      <th>population_density</th>\n",
       "      <th>make</th>\n",
       "      <th>max_torque</th>\n",
       "      <th>max_power</th>\n",
       "      <th>airbags</th>\n",
       "      <th>displacement</th>\n",
       "      <th>cylinder</th>\n",
       "      <th>...</th>\n",
       "      <th>is_central_locking_Yes</th>\n",
       "      <th>is_power_steering_No</th>\n",
       "      <th>is_power_steering_Yes</th>\n",
       "      <th>is_driver_seat_height_adjustable_No</th>\n",
       "      <th>is_driver_seat_height_adjustable_Yes</th>\n",
       "      <th>is_day_night_rear_view_mirror_No</th>\n",
       "      <th>is_day_night_rear_view_mirror_Yes</th>\n",
       "      <th>is_ecw_No</th>\n",
       "      <th>is_ecw_Yes</th>\n",
       "      <th>is_speed_alert_Yes</th>\n",
       "    </tr>\n",
       "  </thead>\n",
       "  <tbody>\n",
       "    <tr>\n",
       "      <th>0</th>\n",
       "      <td>0.368128</td>\n",
       "      <td>0.208333</td>\n",
       "      <td>0.672727</td>\n",
       "      <td>0.135267</td>\n",
       "      <td>0.00</td>\n",
       "      <td>0.000000</td>\n",
       "      <td>0.000000</td>\n",
       "      <td>0.2</td>\n",
       "      <td>0.000000</td>\n",
       "      <td>0.0</td>\n",
       "      <td>...</td>\n",
       "      <td>0.0</td>\n",
       "      <td>0.0</td>\n",
       "      <td>1.0</td>\n",
       "      <td>1.0</td>\n",
       "      <td>0.0</td>\n",
       "      <td>1.0</td>\n",
       "      <td>0.0</td>\n",
       "      <td>1.0</td>\n",
       "      <td>0.0</td>\n",
       "      <td>0.0</td>\n",
       "    </tr>\n",
       "    <tr>\n",
       "      <th>1</th>\n",
       "      <td>0.480579</td>\n",
       "      <td>0.083333</td>\n",
       "      <td>0.163636</td>\n",
       "      <td>0.768808</td>\n",
       "      <td>0.00</td>\n",
       "      <td>0.000000</td>\n",
       "      <td>0.000000</td>\n",
       "      <td>0.2</td>\n",
       "      <td>0.000000</td>\n",
       "      <td>0.0</td>\n",
       "      <td>...</td>\n",
       "      <td>0.0</td>\n",
       "      <td>0.0</td>\n",
       "      <td>1.0</td>\n",
       "      <td>1.0</td>\n",
       "      <td>0.0</td>\n",
       "      <td>1.0</td>\n",
       "      <td>0.0</td>\n",
       "      <td>1.0</td>\n",
       "      <td>0.0</td>\n",
       "      <td>0.0</td>\n",
       "    </tr>\n",
       "    <tr>\n",
       "      <th>2</th>\n",
       "      <td>0.601456</td>\n",
       "      <td>0.083333</td>\n",
       "      <td>0.181818</td>\n",
       "      <td>0.108962</td>\n",
       "      <td>0.00</td>\n",
       "      <td>0.000000</td>\n",
       "      <td>0.000000</td>\n",
       "      <td>0.2</td>\n",
       "      <td>0.000000</td>\n",
       "      <td>0.0</td>\n",
       "      <td>...</td>\n",
       "      <td>0.0</td>\n",
       "      <td>0.0</td>\n",
       "      <td>1.0</td>\n",
       "      <td>1.0</td>\n",
       "      <td>0.0</td>\n",
       "      <td>1.0</td>\n",
       "      <td>0.0</td>\n",
       "      <td>1.0</td>\n",
       "      <td>0.0</td>\n",
       "      <td>0.0</td>\n",
       "    </tr>\n",
       "    <tr>\n",
       "      <th>3</th>\n",
       "      <td>0.643903</td>\n",
       "      <td>0.458333</td>\n",
       "      <td>0.272727</td>\n",
       "      <td>0.613941</td>\n",
       "      <td>0.00</td>\n",
       "      <td>0.378571</td>\n",
       "      <td>0.836781</td>\n",
       "      <td>0.2</td>\n",
       "      <td>0.571225</td>\n",
       "      <td>1.0</td>\n",
       "      <td>...</td>\n",
       "      <td>1.0</td>\n",
       "      <td>0.0</td>\n",
       "      <td>1.0</td>\n",
       "      <td>0.0</td>\n",
       "      <td>1.0</td>\n",
       "      <td>0.0</td>\n",
       "      <td>1.0</td>\n",
       "      <td>0.0</td>\n",
       "      <td>1.0</td>\n",
       "      <td>0.0</td>\n",
       "    </tr>\n",
       "    <tr>\n",
       "      <th>4</th>\n",
       "      <td>0.425901</td>\n",
       "      <td>0.458333</td>\n",
       "      <td>0.654545</td>\n",
       "      <td>0.991423</td>\n",
       "      <td>0.25</td>\n",
       "      <td>0.221429</td>\n",
       "      <td>0.464106</td>\n",
       "      <td>0.2</td>\n",
       "      <td>0.289174</td>\n",
       "      <td>0.0</td>\n",
       "      <td>...</td>\n",
       "      <td>1.0</td>\n",
       "      <td>0.0</td>\n",
       "      <td>1.0</td>\n",
       "      <td>1.0</td>\n",
       "      <td>0.0</td>\n",
       "      <td>0.0</td>\n",
       "      <td>1.0</td>\n",
       "      <td>0.0</td>\n",
       "      <td>1.0</td>\n",
       "      <td>0.0</td>\n",
       "    </tr>\n",
       "  </tbody>\n",
       "</table>\n",
       "<p>5 rows × 102 columns</p>\n",
       "</div>"
      ],
      "text/plain": [
       "   policy_tenure  age_of_car  age_of_policyholder  population_density  make  \\\n",
       "0       0.368128    0.208333             0.672727            0.135267  0.00   \n",
       "1       0.480579    0.083333             0.163636            0.768808  0.00   \n",
       "2       0.601456    0.083333             0.181818            0.108962  0.00   \n",
       "3       0.643903    0.458333             0.272727            0.613941  0.00   \n",
       "4       0.425901    0.458333             0.654545            0.991423  0.25   \n",
       "\n",
       "   max_torque  max_power  airbags  displacement  cylinder  ...  \\\n",
       "0    0.000000   0.000000      0.2      0.000000       0.0  ...   \n",
       "1    0.000000   0.000000      0.2      0.000000       0.0  ...   \n",
       "2    0.000000   0.000000      0.2      0.000000       0.0  ...   \n",
       "3    0.378571   0.836781      0.2      0.571225       1.0  ...   \n",
       "4    0.221429   0.464106      0.2      0.289174       0.0  ...   \n",
       "\n",
       "   is_central_locking_Yes  is_power_steering_No  is_power_steering_Yes  \\\n",
       "0                     0.0                   0.0                    1.0   \n",
       "1                     0.0                   0.0                    1.0   \n",
       "2                     0.0                   0.0                    1.0   \n",
       "3                     1.0                   0.0                    1.0   \n",
       "4                     1.0                   0.0                    1.0   \n",
       "\n",
       "   is_driver_seat_height_adjustable_No  is_driver_seat_height_adjustable_Yes  \\\n",
       "0                                  1.0                                   0.0   \n",
       "1                                  1.0                                   0.0   \n",
       "2                                  1.0                                   0.0   \n",
       "3                                  0.0                                   1.0   \n",
       "4                                  1.0                                   0.0   \n",
       "\n",
       "   is_day_night_rear_view_mirror_No  is_day_night_rear_view_mirror_Yes  \\\n",
       "0                               1.0                                0.0   \n",
       "1                               1.0                                0.0   \n",
       "2                               1.0                                0.0   \n",
       "3                               0.0                                1.0   \n",
       "4                               0.0                                1.0   \n",
       "\n",
       "   is_ecw_No  is_ecw_Yes  is_speed_alert_Yes  \n",
       "0        1.0         0.0                 0.0  \n",
       "1        1.0         0.0                 0.0  \n",
       "2        1.0         0.0                 0.0  \n",
       "3        0.0         1.0                 0.0  \n",
       "4        0.0         1.0                 0.0  \n",
       "\n",
       "[5 rows x 102 columns]"
      ]
     },
     "execution_count": 368,
     "metadata": {},
     "output_type": "execute_result"
    }
   ],
   "source": [
    "df_scaled.head()"
   ]
  },
  {
   "cell_type": "markdown",
   "id": "ad3a4401",
   "metadata": {},
   "source": [
    "## c) Feature Selection / Dimensionality Reduction"
   ]
  },
  {
   "cell_type": "markdown",
   "id": "08212796",
   "metadata": {},
   "source": [
    "# Apply RFE to the dataset to facilitate feature selection"
   ]
  },
  {
   "cell_type": "code",
   "execution_count": 369,
   "id": "9e50affb",
   "metadata": {},
   "outputs": [],
   "source": [
    "#Apply RFE to the dataset to facilitate feature selection\n",
    "\n",
    "#Import the libraries\n",
    "from sklearn.feature_selection import RFE\n",
    "from sklearn.tree import DecisionTreeClassifier\n",
    "\n",
    "#Define the inputs \n",
    "df_predictors = df_scaled.drop(['is_claim'], axis =1)\n",
    "x = df_predictors\n",
    "y = df_scaled.is_claim"
   ]
  },
  {
   "cell_type": "code",
   "execution_count": 370,
   "id": "9228b414",
   "metadata": {},
   "outputs": [
    {
     "name": "stdout",
     "output_type": "stream",
     "text": [
      "Column: policy_tenure\n",
      "Column: age_of_car\n",
      "Column: age_of_policyholder\n",
      "Column: population_density\n",
      "Column: length\n",
      "Column: width\n",
      "Column: height\n",
      "Column: gross_weight\n",
      "Column: area_cluster_C2\n",
      "Column: engine_type_K Series Dual jet\n",
      "Column: is_claim\n"
     ]
    }
   ],
   "source": [
    "#Carry out the transformation\n",
    "\n",
    "rfe = RFE(estimator = DecisionTreeClassifier(), n_features_to_select = 10)\n",
    "rfe.fit(x,y)\n",
    "\n",
    "\n",
    "#Transform the input data to include only the selected features\n",
    "\n",
    "df_transformed = rfe.transform(x)\n",
    "\n",
    "#Add the 'is_claim' column back into the transformed dataset\n",
    "\n",
    "df_transformed = pd.DataFrame(df_transformed, columns=df_predictors.columns[rfe.get_support()])\n",
    "df_transformed['is_claim'] = y\n",
    "\n",
    "for i in range(df_transformed.shape[1]):\n",
    "    print('Column: %s' % (df_transformed.columns[i]))\n",
    "\n",
    "\n"
   ]
  },
  {
   "cell_type": "code",
   "execution_count": 371,
   "id": "52ada950",
   "metadata": {},
   "outputs": [
    {
     "data": {
      "text/html": [
       "<div>\n",
       "<style scoped>\n",
       "    .dataframe tbody tr th:only-of-type {\n",
       "        vertical-align: middle;\n",
       "    }\n",
       "\n",
       "    .dataframe tbody tr th {\n",
       "        vertical-align: top;\n",
       "    }\n",
       "\n",
       "    .dataframe thead th {\n",
       "        text-align: right;\n",
       "    }\n",
       "</style>\n",
       "<table border=\"1\" class=\"dataframe\">\n",
       "  <thead>\n",
       "    <tr style=\"text-align: right;\">\n",
       "      <th></th>\n",
       "      <th>policy_tenure</th>\n",
       "      <th>age_of_car</th>\n",
       "      <th>age_of_policyholder</th>\n",
       "      <th>population_density</th>\n",
       "      <th>length</th>\n",
       "      <th>width</th>\n",
       "      <th>height</th>\n",
       "      <th>gross_weight</th>\n",
       "      <th>area_cluster_C2</th>\n",
       "      <th>engine_type_K Series Dual jet</th>\n",
       "      <th>is_claim</th>\n",
       "    </tr>\n",
       "  </thead>\n",
       "  <tbody>\n",
       "    <tr>\n",
       "      <th>0</th>\n",
       "      <td>0.368128</td>\n",
       "      <td>0.208333</td>\n",
       "      <td>0.672727</td>\n",
       "      <td>0.135267</td>\n",
       "      <td>0.00</td>\n",
       "      <td>0.142857</td>\n",
       "      <td>0.000000</td>\n",
       "      <td>0.291939</td>\n",
       "      <td>0.0</td>\n",
       "      <td>0.0</td>\n",
       "      <td>0.0</td>\n",
       "    </tr>\n",
       "    <tr>\n",
       "      <th>1</th>\n",
       "      <td>0.480579</td>\n",
       "      <td>0.083333</td>\n",
       "      <td>0.163636</td>\n",
       "      <td>0.768808</td>\n",
       "      <td>0.00</td>\n",
       "      <td>0.142857</td>\n",
       "      <td>0.000000</td>\n",
       "      <td>0.291939</td>\n",
       "      <td>1.0</td>\n",
       "      <td>0.0</td>\n",
       "      <td>0.0</td>\n",
       "    </tr>\n",
       "    <tr>\n",
       "      <th>2</th>\n",
       "      <td>0.601456</td>\n",
       "      <td>0.083333</td>\n",
       "      <td>0.181818</td>\n",
       "      <td>0.108962</td>\n",
       "      <td>0.00</td>\n",
       "      <td>0.142857</td>\n",
       "      <td>0.000000</td>\n",
       "      <td>0.291939</td>\n",
       "      <td>0.0</td>\n",
       "      <td>0.0</td>\n",
       "      <td>0.0</td>\n",
       "    </tr>\n",
       "    <tr>\n",
       "      <th>3</th>\n",
       "      <td>0.643903</td>\n",
       "      <td>0.458333</td>\n",
       "      <td>0.272727</td>\n",
       "      <td>0.613941</td>\n",
       "      <td>1.00</td>\n",
       "      <td>0.928571</td>\n",
       "      <td>0.114286</td>\n",
       "      <td>0.618736</td>\n",
       "      <td>0.0</td>\n",
       "      <td>0.0</td>\n",
       "      <td>0.0</td>\n",
       "    </tr>\n",
       "    <tr>\n",
       "      <th>4</th>\n",
       "      <td>0.425901</td>\n",
       "      <td>0.458333</td>\n",
       "      <td>0.654545</td>\n",
       "      <td>0.991423</td>\n",
       "      <td>0.52</td>\n",
       "      <td>0.371429</td>\n",
       "      <td>0.042857</td>\n",
       "      <td>0.226580</td>\n",
       "      <td>0.0</td>\n",
       "      <td>0.0</td>\n",
       "      <td>0.0</td>\n",
       "    </tr>\n",
       "  </tbody>\n",
       "</table>\n",
       "</div>"
      ],
      "text/plain": [
       "   policy_tenure  age_of_car  age_of_policyholder  population_density  length  \\\n",
       "0       0.368128    0.208333             0.672727            0.135267    0.00   \n",
       "1       0.480579    0.083333             0.163636            0.768808    0.00   \n",
       "2       0.601456    0.083333             0.181818            0.108962    0.00   \n",
       "3       0.643903    0.458333             0.272727            0.613941    1.00   \n",
       "4       0.425901    0.458333             0.654545            0.991423    0.52   \n",
       "\n",
       "      width    height  gross_weight  area_cluster_C2  \\\n",
       "0  0.142857  0.000000      0.291939              0.0   \n",
       "1  0.142857  0.000000      0.291939              1.0   \n",
       "2  0.142857  0.000000      0.291939              0.0   \n",
       "3  0.928571  0.114286      0.618736              0.0   \n",
       "4  0.371429  0.042857      0.226580              0.0   \n",
       "\n",
       "   engine_type_K Series Dual jet  is_claim  \n",
       "0                            0.0       0.0  \n",
       "1                            0.0       0.0  \n",
       "2                            0.0       0.0  \n",
       "3                            0.0       0.0  \n",
       "4                            0.0       0.0  "
      ]
     },
     "execution_count": 371,
     "metadata": {},
     "output_type": "execute_result"
    }
   ],
   "source": [
    "df_transformed.head()"
   ]
  },
  {
   "cell_type": "markdown",
   "id": "5ef34189",
   "metadata": {},
   "source": [
    "# Apply a PCA to the dataset to reduce the dimensionaity of the data\n"
   ]
  },
  {
   "cell_type": "code",
   "execution_count": 372,
   "id": "ebb09ef6",
   "metadata": {},
   "outputs": [
    {
     "name": "stdout",
     "output_type": "stream",
     "text": [
      "The 10 principal components:\n",
      "[[-7.18318741e-01 -3.44247598e-01 -1.69517471e-01  1.53419452e-01\n",
      "  -7.88326744e-02 -1.13544496e-01  2.81922892e-01  1.47218795e-01\n",
      "  -4.93959863e-02 -3.43107044e-03]\n",
      " [-7.53235897e-01  8.14482479e-01 -2.06121308e-01  1.71421269e-01\n",
      "  -3.77472878e-01 -1.39303210e-01 -1.71430072e-01 -6.99374170e-02\n",
      "  -7.64562368e-02 -6.74659235e-05]\n",
      " [-7.08950456e-01 -3.65309713e-01 -1.05800959e-01  2.30802895e-01\n",
      "  -1.77522989e-01 -1.01804036e-01 -2.08117247e-01 -7.80696282e-02\n",
      "  -6.82232568e-02  3.28385530e-03]\n",
      " [ 3.46753992e-01  7.75133805e-02  6.42519156e-01  4.34357408e-02\n",
      "   2.78803260e-01 -1.24187723e-01 -9.61373229e-02  4.80179586e-02\n",
      "  -6.41536200e-02  7.43195384e-03]\n",
      " [-3.31534851e-01  2.79748657e-01  1.15055820e-01  9.74654567e-02\n",
      "   5.69136797e-01 -9.94972689e-02  1.42202301e-01  3.14869075e-01\n",
      "   1.19758505e-01  8.89574398e-02]\n",
      " [ 4.32061851e-01 -2.00468226e-01  7.00775311e-01 -5.21861272e-01\n",
      "  -9.82265385e-02  2.70126007e-02  9.24552948e-02  2.23541473e-01\n",
      "  -3.04480992e-01  9.25834398e-03]\n",
      " [ 8.03176983e-01 -2.21967333e-01 -2.44847578e-01 -1.47969043e-01\n",
      "  -6.97306859e-02  5.99628983e-02 -9.65799620e-02  2.15014172e-01\n",
      "  -2.11471344e-02  5.69794032e-04]\n",
      " [ 3.18405498e-01  6.85070066e-03  5.94090686e-01 -1.91996297e-01\n",
      "   2.03051466e-01 -1.21029986e-01  6.37036949e-02 -2.33278269e-01\n",
      "  -1.67021575e-01  2.20528296e-02]\n",
      " [-7.41441196e-01  2.27520971e-01 -1.94994950e-01  4.07301925e-01\n",
      "   5.12512606e-01  2.85712822e-02  3.93420478e-02 -6.57157142e-02\n",
      "  -4.40701209e-02  8.25268865e-04]]\n"
     ]
    }
   ],
   "source": [
    "#Apply a PCA to the dataset to reduce the dimensionaity of the data\n",
    "\n",
    "#Import Libraries\n",
    "from sklearn.decomposition import PCA\n",
    "\n",
    "#Apply PCA to the df_transformed dataset\n",
    "pca = PCA(n_components=10)\n",
    "df_pca = pca.fit_transform(df_transformed.drop(['is_claim'], axis=1))\n",
    "\n",
    "#Print the 10 principal components\n",
    "print('The 10 principal components:')\n",
    "print(df_pca[0:9])\n"
   ]
  },
  {
   "cell_type": "code",
   "execution_count": 373,
   "id": "611eed9d",
   "metadata": {},
   "outputs": [],
   "source": [
    "#Convert df_pca back into a Pandas Dataframe\n",
    "\n",
    "df_pca = pd.DataFrame(df_pca)"
   ]
  },
  {
   "cell_type": "markdown",
   "id": "22971448",
   "metadata": {},
   "source": [
    "## d)Choice of Modelling Techniques / e)Hyperparameter Optimisation"
   ]
  },
  {
   "cell_type": "markdown",
   "id": "43bbf354",
   "metadata": {},
   "source": [
    "# Apply a logistical regression model to predict whether a claim will be made based on predictor variables:\n"
   ]
  },
  {
   "cell_type": "code",
   "execution_count": 374,
   "id": "45a90b23",
   "metadata": {},
   "outputs": [],
   "source": [
    "#Apply a logistical regression model to predict whether \n",
    "#a claim will be made based on predictor variables:\n",
    "\n",
    "#import libraries\n",
    "from sklearn import linear_model\n",
    "\n",
    "#initialise logistic regression model\n",
    "lr = linear_model.LogisticRegression()"
   ]
  },
  {
   "cell_type": "code",
   "execution_count": 375,
   "id": "b4c102f4",
   "metadata": {},
   "outputs": [
    {
     "data": {
      "text/plain": [
       "Text(0.5, 1.0, 'Correlation Heatmap of the Dataset')"
      ]
     },
     "execution_count": 375,
     "metadata": {},
     "output_type": "execute_result"
    },
    {
     "data": {
      "image/png": "[encoded data removed]",
      "text/plain": [
       "<Figure size 2880x2880 with 2 Axes>"
      ]
     },
     "metadata": {},
     "output_type": "display_data"
    }
   ],
   "source": [
    "#Create a heatmap of the dimensionally reduced dataset to investigate possible multicoliniarity before\n",
    "#applying a logistical regression to the data\n",
    "\n",
    "plt.figure(figsize=(40,40))\n",
    "corr = pd.DataFrame(df_pca).corr()\n",
    "sns.heatmap(corr, annot=True)\n",
    "plt.title(\"Correlation Heatmap of the Dataset\", fontsize=30)"
   ]
  },
  {
   "cell_type": "code",
   "execution_count": 376,
   "id": "67fe73e8",
   "metadata": {},
   "outputs": [],
   "source": [
    "train = df_transformed"
   ]
  },
  {
   "cell_type": "code",
   "execution_count": 377,
   "id": "b5993d68",
   "metadata": {},
   "outputs": [
    {
     "data": {
      "text/html": [
       "<div>\n",
       "<style scoped>\n",
       "    .dataframe tbody tr th:only-of-type {\n",
       "        vertical-align: middle;\n",
       "    }\n",
       "\n",
       "    .dataframe tbody tr th {\n",
       "        vertical-align: top;\n",
       "    }\n",
       "\n",
       "    .dataframe thead th {\n",
       "        text-align: right;\n",
       "    }\n",
       "</style>\n",
       "<table border=\"1\" class=\"dataframe\">\n",
       "  <thead>\n",
       "    <tr style=\"text-align: right;\">\n",
       "      <th></th>\n",
       "      <th>policy_tenure</th>\n",
       "      <th>age_of_car</th>\n",
       "      <th>age_of_policyholder</th>\n",
       "      <th>population_density</th>\n",
       "      <th>length</th>\n",
       "      <th>width</th>\n",
       "      <th>height</th>\n",
       "      <th>gross_weight</th>\n",
       "      <th>area_cluster_C2</th>\n",
       "      <th>engine_type_K Series Dual jet</th>\n",
       "      <th>is_claim</th>\n",
       "    </tr>\n",
       "  </thead>\n",
       "  <tbody>\n",
       "    <tr>\n",
       "      <th>0</th>\n",
       "      <td>0.368128</td>\n",
       "      <td>0.208333</td>\n",
       "      <td>0.672727</td>\n",
       "      <td>0.135267</td>\n",
       "      <td>0.00</td>\n",
       "      <td>0.142857</td>\n",
       "      <td>0.000000</td>\n",
       "      <td>0.291939</td>\n",
       "      <td>0.0</td>\n",
       "      <td>0.0</td>\n",
       "      <td>0.0</td>\n",
       "    </tr>\n",
       "    <tr>\n",
       "      <th>1</th>\n",
       "      <td>0.480579</td>\n",
       "      <td>0.083333</td>\n",
       "      <td>0.163636</td>\n",
       "      <td>0.768808</td>\n",
       "      <td>0.00</td>\n",
       "      <td>0.142857</td>\n",
       "      <td>0.000000</td>\n",
       "      <td>0.291939</td>\n",
       "      <td>1.0</td>\n",
       "      <td>0.0</td>\n",
       "      <td>0.0</td>\n",
       "    </tr>\n",
       "    <tr>\n",
       "      <th>2</th>\n",
       "      <td>0.601456</td>\n",
       "      <td>0.083333</td>\n",
       "      <td>0.181818</td>\n",
       "      <td>0.108962</td>\n",
       "      <td>0.00</td>\n",
       "      <td>0.142857</td>\n",
       "      <td>0.000000</td>\n",
       "      <td>0.291939</td>\n",
       "      <td>0.0</td>\n",
       "      <td>0.0</td>\n",
       "      <td>0.0</td>\n",
       "    </tr>\n",
       "    <tr>\n",
       "      <th>3</th>\n",
       "      <td>0.643903</td>\n",
       "      <td>0.458333</td>\n",
       "      <td>0.272727</td>\n",
       "      <td>0.613941</td>\n",
       "      <td>1.00</td>\n",
       "      <td>0.928571</td>\n",
       "      <td>0.114286</td>\n",
       "      <td>0.618736</td>\n",
       "      <td>0.0</td>\n",
       "      <td>0.0</td>\n",
       "      <td>0.0</td>\n",
       "    </tr>\n",
       "    <tr>\n",
       "      <th>4</th>\n",
       "      <td>0.425901</td>\n",
       "      <td>0.458333</td>\n",
       "      <td>0.654545</td>\n",
       "      <td>0.991423</td>\n",
       "      <td>0.52</td>\n",
       "      <td>0.371429</td>\n",
       "      <td>0.042857</td>\n",
       "      <td>0.226580</td>\n",
       "      <td>0.0</td>\n",
       "      <td>0.0</td>\n",
       "      <td>0.0</td>\n",
       "    </tr>\n",
       "  </tbody>\n",
       "</table>\n",
       "</div>"
      ],
      "text/plain": [
       "   policy_tenure  age_of_car  age_of_policyholder  population_density  length  \\\n",
       "0       0.368128    0.208333             0.672727            0.135267    0.00   \n",
       "1       0.480579    0.083333             0.163636            0.768808    0.00   \n",
       "2       0.601456    0.083333             0.181818            0.108962    0.00   \n",
       "3       0.643903    0.458333             0.272727            0.613941    1.00   \n",
       "4       0.425901    0.458333             0.654545            0.991423    0.52   \n",
       "\n",
       "      width    height  gross_weight  area_cluster_C2  \\\n",
       "0  0.142857  0.000000      0.291939              0.0   \n",
       "1  0.142857  0.000000      0.291939              1.0   \n",
       "2  0.142857  0.000000      0.291939              0.0   \n",
       "3  0.928571  0.114286      0.618736              0.0   \n",
       "4  0.371429  0.042857      0.226580              0.0   \n",
       "\n",
       "   engine_type_K Series Dual jet  is_claim  \n",
       "0                            0.0       0.0  \n",
       "1                            0.0       0.0  \n",
       "2                            0.0       0.0  \n",
       "3                            0.0       0.0  \n",
       "4                            0.0       0.0  "
      ]
     },
     "execution_count": 377,
     "metadata": {},
     "output_type": "execute_result"
    }
   ],
   "source": [
    "train.head()"
   ]
  },
  {
   "cell_type": "code",
   "execution_count": 378,
   "id": "94cf051f",
   "metadata": {},
   "outputs": [],
   "source": [
    "#Import the train/test/split function from sklearn\n",
    "\n",
    "from sklearn.model_selection import train_test_split"
   ]
  },
  {
   "cell_type": "code",
   "execution_count": 379,
   "id": "53c91a41",
   "metadata": {},
   "outputs": [],
   "source": [
    "#Split the data into train and test\n",
    "\n",
    "x_train, x_test, y_train, y_test = train_test_split(train.drop(['is_claim'], axis=1),\n",
    "                                                   train['is_claim'], test_size=0.30,\n",
    "                                                   random_state=101)"
   ]
  },
  {
   "cell_type": "code",
   "execution_count": 380,
   "id": "22276be0",
   "metadata": {},
   "outputs": [],
   "source": [
    "#Import the logistic regression function\n",
    "from sklearn.linear_model import LogisticRegression"
   ]
  },
  {
   "cell_type": "code",
   "execution_count": 381,
   "id": "889e1dfa",
   "metadata": {},
   "outputs": [
    {
     "data": {
      "text/plain": [
       "LogisticRegression()"
      ]
     },
     "execution_count": 381,
     "metadata": {},
     "output_type": "execute_result"
    }
   ],
   "source": [
    "#Fit the logistic regression model and tell the model what is train\n",
    "\n",
    "logmodel = LogisticRegression()\n",
    "logmodel.fit(x_train, y_train)"
   ]
  },
  {
   "cell_type": "code",
   "execution_count": 382,
   "id": "e565ae44",
   "metadata": {},
   "outputs": [],
   "source": [
    "#Obtain predictions\n",
    "\n",
    "predictions = logmodel.predict(x_test)"
   ]
  },
  {
   "cell_type": "code",
   "execution_count": 383,
   "id": "08bde840",
   "metadata": {},
   "outputs": [],
   "source": [
    "#Import the classification report function from sklearn\n",
    "\n",
    "from sklearn.metrics import classification_report"
   ]
  },
  {
   "cell_type": "code",
   "execution_count": 384,
   "id": "f2227b81",
   "metadata": {},
   "outputs": [
    {
     "name": "stdout",
     "output_type": "stream",
     "text": [
      "              precision    recall  f1-score   support\n",
      "\n",
      "         0.0       0.93      1.00      0.97     11461\n",
      "         1.0       0.00      0.00      0.00       814\n",
      "\n",
      "    accuracy                           0.93     12275\n",
      "   macro avg       0.47      0.50      0.48     12275\n",
      "weighted avg       0.87      0.93      0.90     12275\n",
      "\n"
     ]
    },
    {
     "name": "stderr",
     "output_type": "stream",
     "text": [
      "/opt/anaconda3/lib/python3.9/site-packages/sklearn/metrics/_classification.py:1248: UndefinedMetricWarning: Precision and F-score are ill-defined and being set to 0.0 in labels with no predicted samples. Use `zero_division` parameter to control this behavior.\n",
      "  _warn_prf(average, modifier, msg_start, len(result))\n",
      "/opt/anaconda3/lib/python3.9/site-packages/sklearn/metrics/_classification.py:1248: UndefinedMetricWarning: Precision and F-score are ill-defined and being set to 0.0 in labels with no predicted samples. Use `zero_division` parameter to control this behavior.\n",
      "  _warn_prf(average, modifier, msg_start, len(result))\n",
      "/opt/anaconda3/lib/python3.9/site-packages/sklearn/metrics/_classification.py:1248: UndefinedMetricWarning: Precision and F-score are ill-defined and being set to 0.0 in labels with no predicted samples. Use `zero_division` parameter to control this behavior.\n",
      "  _warn_prf(average, modifier, msg_start, len(result))\n"
     ]
    }
   ],
   "source": [
    "#Print the classification report to evaluate the logistic regression model\n",
    "print(classification_report(y_test, predictions))"
   ]
  },
  {
   "cell_type": "markdown",
   "id": "30e2987f",
   "metadata": {},
   "source": [
    "# Hyperparameter Optimisation of the Logistic Regression Model"
   ]
  },
  {
   "cell_type": "code",
   "execution_count": 385,
   "id": "c0df5323",
   "metadata": {},
   "outputs": [],
   "source": [
    "# Define the Hyperparameters to tune:\n",
    "\n",
    "param_grid = {'C': [0.1,1,10],'penalty': ['l2']}"
   ]
  },
  {
   "cell_type": "code",
   "execution_count": 386,
   "id": "40280375",
   "metadata": {},
   "outputs": [],
   "source": [
    "from sklearn.linear_model import LogisticRegression\n",
    "model = LogisticRegression()"
   ]
  },
  {
   "cell_type": "code",
   "execution_count": 387,
   "id": "eeb226c1",
   "metadata": {},
   "outputs": [],
   "source": [
    "#Create an instance of the GridSearchCV function\n",
    "\n",
    "from sklearn.model_selection import GridSearchCV\n",
    "\n",
    "grid_search = GridSearchCV(\n",
    "estimator=model,\n",
    "param_grid=param_grid,\n",
    "cv=5\n",
    ")"
   ]
  },
  {
   "cell_type": "code",
   "execution_count": 388,
   "id": "a6cca0cd",
   "metadata": {},
   "outputs": [
    {
     "data": {
      "text/plain": [
       "GridSearchCV(cv=5, estimator=LogisticRegression(),\n",
       "             param_grid={'C': [0.1, 1, 10], 'penalty': ['l2']})"
      ]
     },
     "execution_count": 388,
     "metadata": {},
     "output_type": "execute_result"
    }
   ],
   "source": [
    "#Fit the GridSearchCV object to the training data using the 'fit' method\n",
    "grid_search.fit(x_train, y_train)"
   ]
  },
  {
   "cell_type": "code",
   "execution_count": 389,
   "id": "0d8b14fa",
   "metadata": {},
   "outputs": [
    {
     "name": "stdout",
     "output_type": "stream",
     "text": [
      "{'C': 0.1, 'penalty': 'l2'}\n",
      "The optimised hyperparameters for the logistic regression : 0.9354376944259915\n"
     ]
    }
   ],
   "source": [
    "#Examine the best hyperparameters and best score as follows\n",
    "print(grid_search.best_params_)\n",
    "print('The optimised hyperparameters for the logistic regression :',grid_search.best_score_)"
   ]
  },
  {
   "cell_type": "code",
   "execution_count": 390,
   "id": "71a202d6",
   "metadata": {},
   "outputs": [
    {
     "name": "stdout",
     "output_type": "stream",
     "text": [
      "Best Model:  LogisticRegression(C=0.1)\n",
      "Predictions:  [0. 0. 0. ... 0. 0. 0.]\n"
     ]
    }
   ],
   "source": [
    "#Use the best model obtained from GridSearchCV to make predictions on the dataset\n",
    "#to make predictions on the test data an eveluate its performance\n",
    "\n",
    "best_model = grid_search.best_estimator_\n",
    "y_pred = best_model.predict(x_test)\n",
    "\n",
    "print('Best Model: ', best_model)\n",
    "print('Predictions: ', y_pred)"
   ]
  },
  {
   "cell_type": "markdown",
   "id": "7e48c244",
   "metadata": {},
   "source": [
    "# Construct a K Nearest Neighbours (KNN) model to predict if a policy holder will make a claim"
   ]
  },
  {
   "cell_type": "code",
   "execution_count": 391,
   "id": "f6ed6b69",
   "metadata": {},
   "outputs": [],
   "source": [
    "#Construct a K Nearest Neighbours (KNN) model to predict if a policy holder will\n",
    "#make a claim\n",
    "\n",
    "#Import the necessary libraries\n",
    "\n",
    "from sklearn.neighbors import KNeighborsClassifier\n",
    "from sklearn.model_selection import train_test_split"
   ]
  },
  {
   "cell_type": "code",
   "execution_count": 392,
   "id": "a9f01bb3",
   "metadata": {},
   "outputs": [],
   "source": [
    "# Split the dataset into training and testing sets:\n",
    "\n",
    "x = df_transformed[df_transformed.drop('is_claim', axis=1).columns]\n",
    "y = df_transformed['is_claim']\n",
    "x_train, x_test, y_train, y_test = train_test_split(x, y, test_size=0.3, random_state=42)\n"
   ]
  },
  {
   "cell_type": "code",
   "execution_count": 393,
   "id": "d7b8f7ff",
   "metadata": {},
   "outputs": [
    {
     "data": {
      "text/plain": [
       "KNeighborsClassifier(n_neighbors=10)"
      ]
     },
     "execution_count": 393,
     "metadata": {},
     "output_type": "execute_result"
    }
   ],
   "source": [
    "#Train the KNN model\n",
    "knn = KNeighborsClassifier(n_neighbors=10)\n",
    "knn.fit(x_train, y_train)"
   ]
  },
  {
   "cell_type": "code",
   "execution_count": 394,
   "id": "ed2ae814",
   "metadata": {},
   "outputs": [
    {
     "name": "stdout",
     "output_type": "stream",
     "text": [
      "Accuracy of KNN model:  0.9380855397148676\n"
     ]
    }
   ],
   "source": [
    "#Test the model and calculate accuracy\n",
    "y_pred = knn.predict(x_test)\n",
    "accuracy = knn.score(x_test, y_test)\n",
    "print('Accuracy of KNN model: ', accuracy)"
   ]
  },
  {
   "cell_type": "markdown",
   "id": "462b030b",
   "metadata": {},
   "source": [
    "# Hyperparameter Optimisation of the KNN Model"
   ]
  },
  {
   "cell_type": "code",
   "execution_count": 395,
   "id": "6aff2ddc",
   "metadata": {},
   "outputs": [],
   "source": [
    "# Hyperparameter Optimisation of the KNN Model\n",
    "from sklearn.model_selection import GridSearchCV\n"
   ]
  },
  {
   "cell_type": "code",
   "execution_count": 396,
   "id": "df6b9965",
   "metadata": {},
   "outputs": [],
   "source": [
    "#Define a parameter grid\n",
    "param_grid = {'n_neighbors': [3,5,7,9],\n",
    "             'weights':['uniform','distance']}"
   ]
  },
  {
   "cell_type": "code",
   "execution_count": 397,
   "id": "52b86315",
   "metadata": {},
   "outputs": [],
   "source": [
    "#Create the KNN model\n",
    "knn = KNeighborsClassifier()"
   ]
  },
  {
   "cell_type": "code",
   "execution_count": 398,
   "id": "651cac2e",
   "metadata": {},
   "outputs": [
    {
     "data": {
      "text/plain": [
       "GridSearchCV(cv=5, estimator=KNeighborsClassifier(),\n",
       "             param_grid={'n_neighbors': [3, 5, 7, 9],\n",
       "                         'weights': ['uniform', 'distance']})"
      ]
     },
     "execution_count": 398,
     "metadata": {},
     "output_type": "execute_result"
    }
   ],
   "source": [
    "#Use GridSearchCV to find the best hyperparameters\n",
    "grid = GridSearchCV(knn, param_grid, cv=5)\n",
    "grid.fit(x,y)"
   ]
  },
  {
   "cell_type": "code",
   "execution_count": 399,
   "id": "8e786528",
   "metadata": {},
   "outputs": [
    {
     "name": "stdout",
     "output_type": "stream",
     "text": [
      "Best Hyperparameters:  {'n_neighbors': 9, 'weights': 'uniform'}\n",
      "Best Accuracy Score:  0.9345945127788013\n"
     ]
    }
   ],
   "source": [
    "print('Best Hyperparameters: ', grid.best_params_)\n",
    "print('Best Accuracy Score: ', grid.best_score_)"
   ]
  },
  {
   "cell_type": "markdown",
   "id": "8d5a758f",
   "metadata": {},
   "source": [
    "# Construct a Random Forest model to predict if a policy holder will make a claim"
   ]
  },
  {
   "cell_type": "code",
   "execution_count": 400,
   "id": "6e8722f6",
   "metadata": {},
   "outputs": [],
   "source": [
    "#Construct a Random Forest model to predict if a policy holder will make a claim\n",
    "\n",
    "#Import the necessary libraries\n",
    "from sklearn.ensemble import RandomForestClassifier\n",
    "from sklearn.datasets import make_classification\n",
    "from sklearn.model_selection import train_test_split\n",
    "\n"
   ]
  },
  {
   "cell_type": "code",
   "execution_count": 401,
   "id": "40c7d570",
   "metadata": {},
   "outputs": [],
   "source": [
    "# Split the dataset into training and testing sets:\n",
    "\n",
    "x = df_transformed[df_transformed.drop('is_claim', axis=1).columns]\n",
    "y = df_transformed['is_claim']\n",
    "x_train, x_test, y_train, y_test = train_test_split(x, y, test_size=0.2, random_state=42)\n"
   ]
  },
  {
   "cell_type": "code",
   "execution_count": 402,
   "id": "08e574ce",
   "metadata": {},
   "outputs": [],
   "source": [
    "#Create Random Forest Classifier Model\n",
    "\n",
    "rfc = RandomForestClassifier(n_estimators=200, max_depth=10, random_state=42)"
   ]
  },
  {
   "cell_type": "code",
   "execution_count": 403,
   "id": "4725e0cd",
   "metadata": {},
   "outputs": [
    {
     "data": {
      "text/plain": [
       "RandomForestClassifier(max_depth=10, n_estimators=200, random_state=42)"
      ]
     },
     "execution_count": 403,
     "metadata": {},
     "output_type": "execute_result"
    }
   ],
   "source": [
    "#Fit model on training data\n",
    "\n",
    "rfc.fit(x_train, y_train)"
   ]
  },
  {
   "cell_type": "code",
   "execution_count": 404,
   "id": "6e7f2d00",
   "metadata": {},
   "outputs": [],
   "source": [
    "#Makes predictions on the testing data\n",
    "\n",
    "y_pred = rfc.predict(x_test)"
   ]
  },
  {
   "cell_type": "code",
   "execution_count": 405,
   "id": "5dfe852a",
   "metadata": {},
   "outputs": [
    {
     "name": "stdout",
     "output_type": "stream",
     "text": [
      "Accuracy of the Random Forest Model:  0.9376756690700232\n"
     ]
    }
   ],
   "source": [
    "#Evaluate the model's accuracy\n",
    "\n",
    "accuracy = rfc.score(x_test, y_test)\n",
    "print(\"Accuracy of the Random Forest Model: \", accuracy)"
   ]
  },
  {
   "cell_type": "markdown",
   "id": "a333aedc",
   "metadata": {},
   "source": [
    "# Hyperparameter Optimisation of the Random Forest Model"
   ]
  },
  {
   "cell_type": "code",
   "execution_count": 406,
   "id": "ba42f04a",
   "metadata": {},
   "outputs": [],
   "source": [
    "# Hyperparameter Optimisation of the Random Forest Model\n",
    "from sklearn.ensemble import RandomForestClassifier\n",
    "from sklearn.model_selection import RandomizedSearchCV\n",
    "from sklearn.metrics import accuracy_score\n",
    "\n",
    "# Define a parameter grid:\n",
    "param_dist = {\n",
    "    'n_estimators': [7],\n",
    "    'max_depth': [None] + list(range(2, 20)),\n",
    "    'min_samples_split': [15],\n",
    "    'min_samples_leaf': [6],\n",
    "    'max_features': ['auto', 'sqrt', 'log2', None]\n",
    "}"
   ]
  },
  {
   "cell_type": "code",
   "execution_count": 407,
   "id": "6e38eea2",
   "metadata": {},
   "outputs": [],
   "source": [
    "# Split the data into training and validation sets\n",
    "x_train, x_val, y_train, y_val = train_test_split(x, y, test_size=0.2, random_state=42)"
   ]
  },
  {
   "cell_type": "code",
   "execution_count": 408,
   "id": "4f5c4a99",
   "metadata": {},
   "outputs": [],
   "source": [
    "# Define the random search strategy\n",
    "rf = RandomForestClassifier(random_state=42)\n",
    "random_search = RandomizedSearchCV(rf, param_distributions=param_dist, n_iter=76, cv=5, scoring='accuracy', random_state=42)"
   ]
  },
  {
   "cell_type": "code",
   "execution_count": 409,
   "id": "e5e8c88f",
   "metadata": {
    "scrolled": true
   },
   "outputs": [
    {
     "data": {
      "text/plain": [
       "RandomizedSearchCV(cv=5, estimator=RandomForestClassifier(random_state=42),\n",
       "                   n_iter=76,\n",
       "                   param_distributions={'max_depth': [None, 2, 3, 4, 5, 6, 7, 8,\n",
       "                                                      9, 10, 11, 12, 13, 14, 15,\n",
       "                                                      16, 17, 18, 19],\n",
       "                                        'max_features': ['auto', 'sqrt', 'log2',\n",
       "                                                         None],\n",
       "                                        'min_samples_leaf': [6],\n",
       "                                        'min_samples_split': [15],\n",
       "                                        'n_estimators': [7]},\n",
       "                   random_state=42, scoring='accuracy')"
      ]
     },
     "execution_count": 409,
     "metadata": {},
     "output_type": "execute_result"
    }
   ],
   "source": [
    "# Fit the random search to the training data\n",
    "random_search.fit(x_train, y_train)"
   ]
  },
  {
   "cell_type": "code",
   "execution_count": 410,
   "id": "fa961439",
   "metadata": {},
   "outputs": [
    {
     "name": "stdout",
     "output_type": "stream",
     "text": [
      "The best hyperparameters for the Random Forest Model are:  {'n_estimators': 7, 'min_samples_split': 15, 'min_samples_leaf': 6, 'max_features': 'auto', 'max_depth': 2}\n"
     ]
    }
   ],
   "source": [
    "#Print the best hyperparameters\n",
    "print('The best hyperparameters for the Random Forest Model are: ', random_search.best_params_)"
   ]
  },
  {
   "cell_type": "code",
   "execution_count": 411,
   "id": "31ae6158",
   "metadata": {},
   "outputs": [
    {
     "data": {
      "text/plain": [
       "RandomForestClassifier(max_depth=2, min_samples_leaf=6, min_samples_split=15,\n",
       "                       n_estimators=7, random_state=42)"
      ]
     },
     "execution_count": 411,
     "metadata": {},
     "output_type": "execute_result"
    }
   ],
   "source": [
    "#Retrain the model on the entire training set using the best hyperparameters\n",
    "\n",
    "rf_best = RandomForestClassifier(**random_search.best_params_, random_state=42)\n",
    "rf_best.fit(x_train, y_train)"
   ]
  },
  {
   "cell_type": "code",
   "execution_count": 412,
   "id": "dfb3268b",
   "metadata": {},
   "outputs": [
    {
     "name": "stdout",
     "output_type": "stream",
     "text": [
      "The accuracy of the model with optimised hyperparameters is:  0.9376756690700232\n"
     ]
    }
   ],
   "source": [
    "#Evaluate the model on the validation set:\n",
    "y_pred = rf_best.predict(x_val)\n",
    "print('The accuracy of the model with optimised hyperparameters is: ', accuracy_score(y_val, y_pred))"
   ]
  },
  {
   "cell_type": "markdown",
   "id": "b44a5b44",
   "metadata": {},
   "source": [
    "# Question 2"
   ]
  },
  {
   "cell_type": "markdown",
   "id": "8a505f0e",
   "metadata": {},
   "source": [
    "# b) Data cleaning - Explain all the steps taken to clean the data"
   ]
  },
  {
   "cell_type": "code",
   "execution_count": 413,
   "id": "4faff320",
   "metadata": {},
   "outputs": [],
   "source": [
    "# Import the relevant libraries\n",
    "import email"
   ]
  },
  {
   "cell_type": "code",
   "execution_count": 414,
   "id": "1b934412",
   "metadata": {},
   "outputs": [],
   "source": [
    "# Import the dataset into a pandas dataframe\n",
    "\n",
    "df1 = pd.read_csv('/Users/martinmcelhinney/Documents/NCIRL/Machine Learning/TABA/emails.csv')"
   ]
  },
  {
   "cell_type": "code",
   "execution_count": 415,
   "id": "f9f793b4",
   "metadata": {},
   "outputs": [
    {
     "data": {
      "text/html": [
       "<div>\n",
       "<style scoped>\n",
       "    .dataframe tbody tr th:only-of-type {\n",
       "        vertical-align: middle;\n",
       "    }\n",
       "\n",
       "    .dataframe tbody tr th {\n",
       "        vertical-align: top;\n",
       "    }\n",
       "\n",
       "    .dataframe thead th {\n",
       "        text-align: right;\n",
       "    }\n",
       "</style>\n",
       "<table border=\"1\" class=\"dataframe\">\n",
       "  <thead>\n",
       "    <tr style=\"text-align: right;\">\n",
       "      <th></th>\n",
       "      <th>file</th>\n",
       "      <th>message</th>\n",
       "    </tr>\n",
       "  </thead>\n",
       "  <tbody>\n",
       "    <tr>\n",
       "      <th>0</th>\n",
       "      <td>allen-p/_sent_mail/1.</td>\n",
       "      <td>Message-ID: &lt;18782981.1075855378110.JavaMail.e...</td>\n",
       "    </tr>\n",
       "    <tr>\n",
       "      <th>1</th>\n",
       "      <td>allen-p/_sent_mail/10.</td>\n",
       "      <td>Message-ID: &lt;15464986.1075855378456.JavaMail.e...</td>\n",
       "    </tr>\n",
       "    <tr>\n",
       "      <th>2</th>\n",
       "      <td>allen-p/_sent_mail/100.</td>\n",
       "      <td>Message-ID: &lt;24216240.1075855687451.JavaMail.e...</td>\n",
       "    </tr>\n",
       "    <tr>\n",
       "      <th>3</th>\n",
       "      <td>allen-p/_sent_mail/1000.</td>\n",
       "      <td>Message-ID: &lt;13505866.1075863688222.JavaMail.e...</td>\n",
       "    </tr>\n",
       "    <tr>\n",
       "      <th>4</th>\n",
       "      <td>allen-p/_sent_mail/1001.</td>\n",
       "      <td>Message-ID: &lt;30922949.1075863688243.JavaMail.e...</td>\n",
       "    </tr>\n",
       "  </tbody>\n",
       "</table>\n",
       "</div>"
      ],
      "text/plain": [
       "                       file                                            message\n",
       "0     allen-p/_sent_mail/1.  Message-ID: <18782981.1075855378110.JavaMail.e...\n",
       "1    allen-p/_sent_mail/10.  Message-ID: <15464986.1075855378456.JavaMail.e...\n",
       "2   allen-p/_sent_mail/100.  Message-ID: <24216240.1075855687451.JavaMail.e...\n",
       "3  allen-p/_sent_mail/1000.  Message-ID: <13505866.1075863688222.JavaMail.e...\n",
       "4  allen-p/_sent_mail/1001.  Message-ID: <30922949.1075863688243.JavaMail.e..."
      ]
     },
     "execution_count": 415,
     "metadata": {},
     "output_type": "execute_result"
    }
   ],
   "source": [
    "#View the first 5 rows of the dataset\n",
    "df1.head()"
   ]
  },
  {
   "cell_type": "code",
   "execution_count": 416,
   "id": "0ba9e098",
   "metadata": {},
   "outputs": [
    {
     "data": {
      "text/plain": [
       "(517401, 2)"
      ]
     },
     "execution_count": 416,
     "metadata": {},
     "output_type": "execute_result"
    }
   ],
   "source": [
    "# Examine the shape of the data\n",
    "df1.shape"
   ]
  },
  {
   "cell_type": "code",
   "execution_count": 417,
   "id": "b65a5cc9",
   "metadata": {},
   "outputs": [
    {
     "name": "stdout",
     "output_type": "stream",
     "text": [
      "Message-ID: <15464986.1075855378456.JavaMail.evans@thyme>\n",
      "Date: Fri, 4 May 2001 13:51:00 -0700 (PDT)\n",
      "From: phillip.allen@enron.com\n",
      "To: john.lavorato@enron.com\n",
      "Subject: Re:\n",
      "Mime-Version: 1.0\n",
      "Content-Type: text/plain; charset=us-ascii\n",
      "Content-Transfer-Encoding: 7bit\n",
      "X-From: Phillip K Allen\n",
      "X-To: John J Lavorato <John J Lavorato/ENRON@enronXgate@ENRON>\n",
      "X-cc: \n",
      "X-bcc: \n",
      "X-Folder: \\Phillip_Allen_Jan2002_1\\Allen, Phillip K.\\'Sent Mail\n",
      "X-Origin: Allen-P\n",
      "X-FileName: pallen (Non-Privileged).pst\n",
      "\n",
      "Traveling to have a business meeting takes the fun out of the trip.  Especially if you have to prepare a presentation.  I would suggest holding the business plan meetings here then take a trip without any formal business meetings.  I would even try and get some honest opinions on whether a trip is even desired or necessary.\n",
      "\n",
      "As far as the business meetings, I think it would be more productive to try and stimulate discussions across the different groups about what is working and what is not.  Too often the presenter speaks and the others are quiet just waiting for their turn.   The meetings might be better if held in a round table discussion format.  \n",
      "\n",
      "My suggestion for where to go is Austin.  Play golf and rent a ski boat and jet ski's.  Flying somewhere takes too much time.\n",
      "\n"
     ]
    }
   ],
   "source": [
    "# Examine a sample of the emails\n",
    "print(df1.loc[1]['message'])"
   ]
  },
  {
   "cell_type": "code",
   "execution_count": 418,
   "id": "d66ff5e2",
   "metadata": {
    "scrolled": true
   },
   "outputs": [
    {
     "data": {
      "text/plain": [
       "[('Message-ID', '<15464986.1075855378456.JavaMail.evans@thyme>'),\n",
       " ('Date', 'Fri, 4 May 2001 13:51:00 -0700 (PDT)'),\n",
       " ('From', 'phillip.allen@enron.com'),\n",
       " ('To', 'john.lavorato@enron.com'),\n",
       " ('Subject', 'Re:'),\n",
       " ('Mime-Version', '1.0'),\n",
       " ('Content-Type', 'text/plain; charset=us-ascii'),\n",
       " ('Content-Transfer-Encoding', '7bit'),\n",
       " ('X-From', 'Phillip K Allen'),\n",
       " ('X-To', 'John J Lavorato <John J Lavorato/ENRON@enronXgate@ENRON>'),\n",
       " ('X-cc', ''),\n",
       " ('X-bcc', ''),\n",
       " ('X-Folder', \"\\\\Phillip_Allen_Jan2002_1\\\\Allen, Phillip K.\\\\'Sent Mail\"),\n",
       " ('X-Origin', 'Allen-P'),\n",
       " ('X-FileName', 'pallen (Non-Privileged).pst')]"
      ]
     },
     "execution_count": 418,
     "metadata": {},
     "output_type": "execute_result"
    }
   ],
   "source": [
    "# Transform the first email into a useable format\n",
    "\n",
    "from email import message_from_string\n",
    "\n",
    "message = df1.loc[1]['message']\n",
    "emails = message_from_string(message)\n",
    "emails.items()"
   ]
  },
  {
   "cell_type": "code",
   "execution_count": 419,
   "id": "b31d439b",
   "metadata": {},
   "outputs": [
    {
     "data": {
      "text/plain": [
       "\"Traveling to have a business meeting takes the fun out of the trip.  Especially if you have to prepare a presentation.  I would suggest holding the business plan meetings here then take a trip without any formal business meetings.  I would even try and get some honest opinions on whether a trip is even desired or necessary.\\n\\nAs far as the business meetings, I think it would be more productive to try and stimulate discussions across the different groups about what is working and what is not.  Too often the presenter speaks and the others are quiet just waiting for their turn.   The meetings might be better if held in a round table discussion format.  \\n\\nMy suggestion for where to go is Austin.  Play golf and rent a ski boat and jet ski's.  Flying somewhere takes too much time.\\n\""
      ]
     },
     "execution_count": 419,
     "metadata": {},
     "output_type": "execute_result"
    }
   ],
   "source": [
    "# Show the email body (payload)\n",
    "\n",
    "emails.get_payload()"
   ]
  },
  {
   "cell_type": "code",
   "execution_count": 420,
   "id": "19447b8e",
   "metadata": {},
   "outputs": [],
   "source": [
    "# Apply this format to the rest of the dataframe\n",
    "\n",
    "def get_field(field, messages):\n",
    "    column = []\n",
    "    for message in messages:\n",
    "        emails = message_from_string(message)\n",
    "        column.append(emails.get(field))\n",
    "        \n",
    "        return column\n",
    "\n"
   ]
  },
  {
   "cell_type": "code",
   "execution_count": 421,
   "id": "999d2e86",
   "metadata": {},
   "outputs": [],
   "source": [
    "# Define a get_field function\n",
    "\n",
    "def get_field(field, messages):\n",
    "    fields = []\n",
    "    for message in messages:\n",
    "        e = message_from_string(message)\n",
    "        field_value = e.get(field)\n",
    "        fields.append(field_value)\n",
    "    return fields"
   ]
  },
  {
   "cell_type": "code",
   "execution_count": 422,
   "id": "4b7319b5",
   "metadata": {},
   "outputs": [
    {
     "data": {
      "text/html": [
       "<div>\n",
       "<style scoped>\n",
       "    .dataframe tbody tr th:only-of-type {\n",
       "        vertical-align: middle;\n",
       "    }\n",
       "\n",
       "    .dataframe tbody tr th {\n",
       "        vertical-align: top;\n",
       "    }\n",
       "\n",
       "    .dataframe thead th {\n",
       "        text-align: right;\n",
       "    }\n",
       "</style>\n",
       "<table border=\"1\" class=\"dataframe\">\n",
       "  <thead>\n",
       "    <tr style=\"text-align: right;\">\n",
       "      <th></th>\n",
       "      <th>file</th>\n",
       "      <th>message</th>\n",
       "      <th>date</th>\n",
       "      <th>subject</th>\n",
       "      <th>X-Folder</th>\n",
       "      <th>X-From</th>\n",
       "      <th>X-To</th>\n",
       "    </tr>\n",
       "  </thead>\n",
       "  <tbody>\n",
       "    <tr>\n",
       "      <th>0</th>\n",
       "      <td>allen-p/_sent_mail/1.</td>\n",
       "      <td>Message-ID: &lt;18782981.1075855378110.JavaMail.e...</td>\n",
       "      <td>Mon, 14 May 2001 16:39:00 -0700 (PDT)</td>\n",
       "      <td></td>\n",
       "      <td>\\Phillip_Allen_Jan2002_1\\Allen, Phillip K.\\'Se...</td>\n",
       "      <td>Phillip K Allen</td>\n",
       "      <td>Tim Belden &lt;Tim Belden/Enron@EnronXGate&gt;</td>\n",
       "    </tr>\n",
       "    <tr>\n",
       "      <th>1</th>\n",
       "      <td>allen-p/_sent_mail/10.</td>\n",
       "      <td>Message-ID: &lt;15464986.1075855378456.JavaMail.e...</td>\n",
       "      <td>Fri, 4 May 2001 13:51:00 -0700 (PDT)</td>\n",
       "      <td>Re:</td>\n",
       "      <td>\\Phillip_Allen_Jan2002_1\\Allen, Phillip K.\\'Se...</td>\n",
       "      <td>Phillip K Allen</td>\n",
       "      <td>John J Lavorato &lt;John J Lavorato/ENRON@enronXg...</td>\n",
       "    </tr>\n",
       "    <tr>\n",
       "      <th>2</th>\n",
       "      <td>allen-p/_sent_mail/100.</td>\n",
       "      <td>Message-ID: &lt;24216240.1075855687451.JavaMail.e...</td>\n",
       "      <td>Wed, 18 Oct 2000 03:00:00 -0700 (PDT)</td>\n",
       "      <td>Re: test</td>\n",
       "      <td>\\Phillip_Allen_Dec2000\\Notes Folders\\'sent mail</td>\n",
       "      <td>Phillip K Allen</td>\n",
       "      <td>Leah Van Arsdall</td>\n",
       "    </tr>\n",
       "    <tr>\n",
       "      <th>3</th>\n",
       "      <td>allen-p/_sent_mail/1000.</td>\n",
       "      <td>Message-ID: &lt;13505866.1075863688222.JavaMail.e...</td>\n",
       "      <td>Mon, 23 Oct 2000 06:13:00 -0700 (PDT)</td>\n",
       "      <td></td>\n",
       "      <td>\\Phillip_Allen_Dec2000\\Notes Folders\\'sent mail</td>\n",
       "      <td>Phillip K Allen</td>\n",
       "      <td>Randall L Gay</td>\n",
       "    </tr>\n",
       "    <tr>\n",
       "      <th>4</th>\n",
       "      <td>allen-p/_sent_mail/1001.</td>\n",
       "      <td>Message-ID: &lt;30922949.1075863688243.JavaMail.e...</td>\n",
       "      <td>Thu, 31 Aug 2000 05:07:00 -0700 (PDT)</td>\n",
       "      <td>Re: Hello</td>\n",
       "      <td>\\Phillip_Allen_Dec2000\\Notes Folders\\'sent mail</td>\n",
       "      <td>Phillip K Allen</td>\n",
       "      <td>Greg Piper</td>\n",
       "    </tr>\n",
       "  </tbody>\n",
       "</table>\n",
       "</div>"
      ],
      "text/plain": [
       "                       file  \\\n",
       "0     allen-p/_sent_mail/1.   \n",
       "1    allen-p/_sent_mail/10.   \n",
       "2   allen-p/_sent_mail/100.   \n",
       "3  allen-p/_sent_mail/1000.   \n",
       "4  allen-p/_sent_mail/1001.   \n",
       "\n",
       "                                             message  \\\n",
       "0  Message-ID: <18782981.1075855378110.JavaMail.e...   \n",
       "1  Message-ID: <15464986.1075855378456.JavaMail.e...   \n",
       "2  Message-ID: <24216240.1075855687451.JavaMail.e...   \n",
       "3  Message-ID: <13505866.1075863688222.JavaMail.e...   \n",
       "4  Message-ID: <30922949.1075863688243.JavaMail.e...   \n",
       "\n",
       "                                    date    subject  \\\n",
       "0  Mon, 14 May 2001 16:39:00 -0700 (PDT)              \n",
       "1   Fri, 4 May 2001 13:51:00 -0700 (PDT)        Re:   \n",
       "2  Wed, 18 Oct 2000 03:00:00 -0700 (PDT)   Re: test   \n",
       "3  Mon, 23 Oct 2000 06:13:00 -0700 (PDT)              \n",
       "4  Thu, 31 Aug 2000 05:07:00 -0700 (PDT)  Re: Hello   \n",
       "\n",
       "                                            X-Folder           X-From  \\\n",
       "0  \\Phillip_Allen_Jan2002_1\\Allen, Phillip K.\\'Se...  Phillip K Allen   \n",
       "1  \\Phillip_Allen_Jan2002_1\\Allen, Phillip K.\\'Se...  Phillip K Allen   \n",
       "2    \\Phillip_Allen_Dec2000\\Notes Folders\\'sent mail  Phillip K Allen   \n",
       "3    \\Phillip_Allen_Dec2000\\Notes Folders\\'sent mail  Phillip K Allen   \n",
       "4    \\Phillip_Allen_Dec2000\\Notes Folders\\'sent mail  Phillip K Allen   \n",
       "\n",
       "                                                X-To  \n",
       "0           Tim Belden <Tim Belden/Enron@EnronXGate>  \n",
       "1  John J Lavorato <John J Lavorato/ENRON@enronXg...  \n",
       "2                                   Leah Van Arsdall  \n",
       "3                                      Randall L Gay  \n",
       "4                                         Greg Piper  "
      ]
     },
     "execution_count": 422,
     "metadata": {},
     "output_type": "execute_result"
    }
   ],
   "source": [
    "df1['date'] = get_field('Date', df1['message'])\n",
    "df1['subject'] = get_field('Subject', df1['message'])\n",
    "df1['X-Folder'] = get_field('X-Folder', df1['message'])\n",
    "df1['X-From'] = get_field('X-From', df1['message'])\n",
    "df1['X-To'] = get_field('X-To', df1['message'])\n",
    "df1.head()"
   ]
  },
  {
   "cell_type": "code",
   "execution_count": 423,
   "id": "7ac6e242",
   "metadata": {},
   "outputs": [
    {
     "data": {
      "text/plain": [
       "file         0\n",
       "message      0\n",
       "date         0\n",
       "subject      0\n",
       "X-Folder    29\n",
       "X-From      29\n",
       "X-To        29\n",
       "dtype: int64"
      ]
     },
     "execution_count": 423,
     "metadata": {},
     "output_type": "execute_result"
    }
   ],
   "source": [
    "# Identify the missing values in the dataset\n",
    "\n",
    "df1.isnull().sum()"
   ]
  },
  {
   "cell_type": "code",
   "execution_count": 424,
   "id": "377aa0be",
   "metadata": {},
   "outputs": [
    {
     "data": {
      "text/plain": [
       "file        0\n",
       "message     0\n",
       "date        0\n",
       "subject     0\n",
       "X-Folder    0\n",
       "X-From      0\n",
       "X-To        0\n",
       "dtype: int64"
      ]
     },
     "execution_count": 424,
     "metadata": {},
     "output_type": "execute_result"
    }
   ],
   "source": [
    "# Drop the rows that contain missing values\n",
    "\n",
    "df1.dropna(axis=0, inplace=True)\n",
    "\n",
    "df1.isnull().sum()"
   ]
  },
  {
   "cell_type": "code",
   "execution_count": 425,
   "id": "cd99cd3f",
   "metadata": {},
   "outputs": [
    {
     "data": {
      "text/html": [
       "<div>\n",
       "<style scoped>\n",
       "    .dataframe tbody tr th:only-of-type {\n",
       "        vertical-align: middle;\n",
       "    }\n",
       "\n",
       "    .dataframe tbody tr th {\n",
       "        vertical-align: top;\n",
       "    }\n",
       "\n",
       "    .dataframe thead th {\n",
       "        text-align: right;\n",
       "    }\n",
       "</style>\n",
       "<table border=\"1\" class=\"dataframe\">\n",
       "  <thead>\n",
       "    <tr style=\"text-align: right;\">\n",
       "      <th></th>\n",
       "      <th>file</th>\n",
       "      <th>message</th>\n",
       "      <th>date</th>\n",
       "      <th>subject</th>\n",
       "      <th>X-Folder</th>\n",
       "      <th>X-From</th>\n",
       "      <th>X-To</th>\n",
       "      <th>message_text</th>\n",
       "    </tr>\n",
       "  </thead>\n",
       "  <tbody>\n",
       "    <tr>\n",
       "      <th>0</th>\n",
       "      <td>allen-p/_sent_mail/1.</td>\n",
       "      <td>Message-ID: &lt;18782981.1075855378110.JavaMail.e...</td>\n",
       "      <td>Mon, 14 May 2001 16:39:00 -0700 (PDT)</td>\n",
       "      <td></td>\n",
       "      <td>\\Phillip_Allen_Jan2002_1\\Allen, Phillip K.\\'Se...</td>\n",
       "      <td>Phillip K Allen</td>\n",
       "      <td>Tim Belden &lt;Tim Belden/Enron@EnronXGate&gt;</td>\n",
       "      <td>Here is our forecast\\n\\n</td>\n",
       "    </tr>\n",
       "    <tr>\n",
       "      <th>1</th>\n",
       "      <td>allen-p/_sent_mail/10.</td>\n",
       "      <td>Message-ID: &lt;15464986.1075855378456.JavaMail.e...</td>\n",
       "      <td>Fri, 4 May 2001 13:51:00 -0700 (PDT)</td>\n",
       "      <td>Re:</td>\n",
       "      <td>\\Phillip_Allen_Jan2002_1\\Allen, Phillip K.\\'Se...</td>\n",
       "      <td>Phillip K Allen</td>\n",
       "      <td>John J Lavorato &lt;John J Lavorato/ENRON@enronXg...</td>\n",
       "      <td>Traveling to have a business meeting takes the...</td>\n",
       "    </tr>\n",
       "    <tr>\n",
       "      <th>2</th>\n",
       "      <td>allen-p/_sent_mail/100.</td>\n",
       "      <td>Message-ID: &lt;24216240.1075855687451.JavaMail.e...</td>\n",
       "      <td>Wed, 18 Oct 2000 03:00:00 -0700 (PDT)</td>\n",
       "      <td>Re: test</td>\n",
       "      <td>\\Phillip_Allen_Dec2000\\Notes Folders\\'sent mail</td>\n",
       "      <td>Phillip K Allen</td>\n",
       "      <td>Leah Van Arsdall</td>\n",
       "      <td>test successful.  way to go!!!</td>\n",
       "    </tr>\n",
       "    <tr>\n",
       "      <th>3</th>\n",
       "      <td>allen-p/_sent_mail/1000.</td>\n",
       "      <td>Message-ID: &lt;13505866.1075863688222.JavaMail.e...</td>\n",
       "      <td>Mon, 23 Oct 2000 06:13:00 -0700 (PDT)</td>\n",
       "      <td></td>\n",
       "      <td>\\Phillip_Allen_Dec2000\\Notes Folders\\'sent mail</td>\n",
       "      <td>Phillip K Allen</td>\n",
       "      <td>Randall L Gay</td>\n",
       "      <td>Randy,\\n\\n Can you send me a schedule of the s...</td>\n",
       "    </tr>\n",
       "    <tr>\n",
       "      <th>4</th>\n",
       "      <td>allen-p/_sent_mail/1001.</td>\n",
       "      <td>Message-ID: &lt;30922949.1075863688243.JavaMail.e...</td>\n",
       "      <td>Thu, 31 Aug 2000 05:07:00 -0700 (PDT)</td>\n",
       "      <td>Re: Hello</td>\n",
       "      <td>\\Phillip_Allen_Dec2000\\Notes Folders\\'sent mail</td>\n",
       "      <td>Phillip K Allen</td>\n",
       "      <td>Greg Piper</td>\n",
       "      <td>Let's shoot for Tuesday at 11:45.</td>\n",
       "    </tr>\n",
       "  </tbody>\n",
       "</table>\n",
       "</div>"
      ],
      "text/plain": [
       "                       file  \\\n",
       "0     allen-p/_sent_mail/1.   \n",
       "1    allen-p/_sent_mail/10.   \n",
       "2   allen-p/_sent_mail/100.   \n",
       "3  allen-p/_sent_mail/1000.   \n",
       "4  allen-p/_sent_mail/1001.   \n",
       "\n",
       "                                             message  \\\n",
       "0  Message-ID: <18782981.1075855378110.JavaMail.e...   \n",
       "1  Message-ID: <15464986.1075855378456.JavaMail.e...   \n",
       "2  Message-ID: <24216240.1075855687451.JavaMail.e...   \n",
       "3  Message-ID: <13505866.1075863688222.JavaMail.e...   \n",
       "4  Message-ID: <30922949.1075863688243.JavaMail.e...   \n",
       "\n",
       "                                    date    subject  \\\n",
       "0  Mon, 14 May 2001 16:39:00 -0700 (PDT)              \n",
       "1   Fri, 4 May 2001 13:51:00 -0700 (PDT)        Re:   \n",
       "2  Wed, 18 Oct 2000 03:00:00 -0700 (PDT)   Re: test   \n",
       "3  Mon, 23 Oct 2000 06:13:00 -0700 (PDT)              \n",
       "4  Thu, 31 Aug 2000 05:07:00 -0700 (PDT)  Re: Hello   \n",
       "\n",
       "                                            X-Folder           X-From  \\\n",
       "0  \\Phillip_Allen_Jan2002_1\\Allen, Phillip K.\\'Se...  Phillip K Allen   \n",
       "1  \\Phillip_Allen_Jan2002_1\\Allen, Phillip K.\\'Se...  Phillip K Allen   \n",
       "2    \\Phillip_Allen_Dec2000\\Notes Folders\\'sent mail  Phillip K Allen   \n",
       "3    \\Phillip_Allen_Dec2000\\Notes Folders\\'sent mail  Phillip K Allen   \n",
       "4    \\Phillip_Allen_Dec2000\\Notes Folders\\'sent mail  Phillip K Allen   \n",
       "\n",
       "                                                X-To  \\\n",
       "0           Tim Belden <Tim Belden/Enron@EnronXGate>   \n",
       "1  John J Lavorato <John J Lavorato/ENRON@enronXg...   \n",
       "2                                   Leah Van Arsdall   \n",
       "3                                      Randall L Gay   \n",
       "4                                         Greg Piper   \n",
       "\n",
       "                                        message_text  \n",
       "0                          Here is our forecast\\n\\n   \n",
       "1  Traveling to have a business meeting takes the...  \n",
       "2                     test successful.  way to go!!!  \n",
       "3  Randy,\\n\\n Can you send me a schedule of the s...  \n",
       "4                Let's shoot for Tuesday at 11:45.    "
      ]
     },
     "execution_count": 425,
     "metadata": {},
     "output_type": "execute_result"
    }
   ],
   "source": [
    "# Extract the message text of the emails\n",
    "\n",
    "def body(messages):\n",
    "    column = []\n",
    "    for message in messages:\n",
    "        e = message_from_string(message)\n",
    "        column.append(e.get_payload())\n",
    "    return column\n",
    "\n",
    "df1['message_text'] = body(df1['message'])\n",
    "df1.head()"
   ]
  },
  {
   "cell_type": "code",
   "execution_count": 426,
   "id": "25eb683a",
   "metadata": {},
   "outputs": [
    {
     "data": {
      "text/plain": [
       "0       allen-p/_sent_mail/1.\n",
       "1      allen-p/_sent_mail/10.\n",
       "2     allen-p/_sent_mail/100.\n",
       "3    allen-p/_sent_mail/1000.\n",
       "4    allen-p/_sent_mail/1001.\n",
       "Name: file, dtype: object"
      ]
     },
     "execution_count": 426,
     "metadata": {},
     "output_type": "execute_result"
    }
   ],
   "source": [
    "# Extract employee names, examine the string structure\n",
    "\n",
    "df1['file'][:5]"
   ]
  },
  {
   "cell_type": "code",
   "execution_count": 427,
   "id": "1395fc35",
   "metadata": {},
   "outputs": [
    {
     "data": {
      "text/html": [
       "<div>\n",
       "<style scoped>\n",
       "    .dataframe tbody tr th:only-of-type {\n",
       "        vertical-align: middle;\n",
       "    }\n",
       "\n",
       "    .dataframe tbody tr th {\n",
       "        vertical-align: top;\n",
       "    }\n",
       "\n",
       "    .dataframe thead th {\n",
       "        text-align: right;\n",
       "    }\n",
       "</style>\n",
       "<table border=\"1\" class=\"dataframe\">\n",
       "  <thead>\n",
       "    <tr style=\"text-align: right;\">\n",
       "      <th></th>\n",
       "      <th>file</th>\n",
       "      <th>message</th>\n",
       "      <th>date</th>\n",
       "      <th>subject</th>\n",
       "      <th>X-Folder</th>\n",
       "      <th>X-From</th>\n",
       "      <th>X-To</th>\n",
       "      <th>message_text</th>\n",
       "      <th>employee</th>\n",
       "    </tr>\n",
       "  </thead>\n",
       "  <tbody>\n",
       "    <tr>\n",
       "      <th>0</th>\n",
       "      <td>allen-p/_sent_mail/1.</td>\n",
       "      <td>Message-ID: &lt;18782981.1075855378110.JavaMail.e...</td>\n",
       "      <td>Mon, 14 May 2001 16:39:00 -0700 (PDT)</td>\n",
       "      <td></td>\n",
       "      <td>\\Phillip_Allen_Jan2002_1\\Allen, Phillip K.\\'Se...</td>\n",
       "      <td>Phillip K Allen</td>\n",
       "      <td>Tim Belden &lt;Tim Belden/Enron@EnronXGate&gt;</td>\n",
       "      <td>Here is our forecast\\n\\n</td>\n",
       "      <td>allen-p</td>\n",
       "    </tr>\n",
       "    <tr>\n",
       "      <th>1</th>\n",
       "      <td>allen-p/_sent_mail/10.</td>\n",
       "      <td>Message-ID: &lt;15464986.1075855378456.JavaMail.e...</td>\n",
       "      <td>Fri, 4 May 2001 13:51:00 -0700 (PDT)</td>\n",
       "      <td>Re:</td>\n",
       "      <td>\\Phillip_Allen_Jan2002_1\\Allen, Phillip K.\\'Se...</td>\n",
       "      <td>Phillip K Allen</td>\n",
       "      <td>John J Lavorato &lt;John J Lavorato/ENRON@enronXg...</td>\n",
       "      <td>Traveling to have a business meeting takes the...</td>\n",
       "      <td>allen-p</td>\n",
       "    </tr>\n",
       "    <tr>\n",
       "      <th>2</th>\n",
       "      <td>allen-p/_sent_mail/100.</td>\n",
       "      <td>Message-ID: &lt;24216240.1075855687451.JavaMail.e...</td>\n",
       "      <td>Wed, 18 Oct 2000 03:00:00 -0700 (PDT)</td>\n",
       "      <td>Re: test</td>\n",
       "      <td>\\Phillip_Allen_Dec2000\\Notes Folders\\'sent mail</td>\n",
       "      <td>Phillip K Allen</td>\n",
       "      <td>Leah Van Arsdall</td>\n",
       "      <td>test successful.  way to go!!!</td>\n",
       "      <td>allen-p</td>\n",
       "    </tr>\n",
       "    <tr>\n",
       "      <th>3</th>\n",
       "      <td>allen-p/_sent_mail/1000.</td>\n",
       "      <td>Message-ID: &lt;13505866.1075863688222.JavaMail.e...</td>\n",
       "      <td>Mon, 23 Oct 2000 06:13:00 -0700 (PDT)</td>\n",
       "      <td></td>\n",
       "      <td>\\Phillip_Allen_Dec2000\\Notes Folders\\'sent mail</td>\n",
       "      <td>Phillip K Allen</td>\n",
       "      <td>Randall L Gay</td>\n",
       "      <td>Randy,\\n\\n Can you send me a schedule of the s...</td>\n",
       "      <td>allen-p</td>\n",
       "    </tr>\n",
       "    <tr>\n",
       "      <th>4</th>\n",
       "      <td>allen-p/_sent_mail/1001.</td>\n",
       "      <td>Message-ID: &lt;30922949.1075863688243.JavaMail.e...</td>\n",
       "      <td>Thu, 31 Aug 2000 05:07:00 -0700 (PDT)</td>\n",
       "      <td>Re: Hello</td>\n",
       "      <td>\\Phillip_Allen_Dec2000\\Notes Folders\\'sent mail</td>\n",
       "      <td>Phillip K Allen</td>\n",
       "      <td>Greg Piper</td>\n",
       "      <td>Let's shoot for Tuesday at 11:45.</td>\n",
       "      <td>allen-p</td>\n",
       "    </tr>\n",
       "  </tbody>\n",
       "</table>\n",
       "</div>"
      ],
      "text/plain": [
       "                       file  \\\n",
       "0     allen-p/_sent_mail/1.   \n",
       "1    allen-p/_sent_mail/10.   \n",
       "2   allen-p/_sent_mail/100.   \n",
       "3  allen-p/_sent_mail/1000.   \n",
       "4  allen-p/_sent_mail/1001.   \n",
       "\n",
       "                                             message  \\\n",
       "0  Message-ID: <18782981.1075855378110.JavaMail.e...   \n",
       "1  Message-ID: <15464986.1075855378456.JavaMail.e...   \n",
       "2  Message-ID: <24216240.1075855687451.JavaMail.e...   \n",
       "3  Message-ID: <13505866.1075863688222.JavaMail.e...   \n",
       "4  Message-ID: <30922949.1075863688243.JavaMail.e...   \n",
       "\n",
       "                                    date    subject  \\\n",
       "0  Mon, 14 May 2001 16:39:00 -0700 (PDT)              \n",
       "1   Fri, 4 May 2001 13:51:00 -0700 (PDT)        Re:   \n",
       "2  Wed, 18 Oct 2000 03:00:00 -0700 (PDT)   Re: test   \n",
       "3  Mon, 23 Oct 2000 06:13:00 -0700 (PDT)              \n",
       "4  Thu, 31 Aug 2000 05:07:00 -0700 (PDT)  Re: Hello   \n",
       "\n",
       "                                            X-Folder           X-From  \\\n",
       "0  \\Phillip_Allen_Jan2002_1\\Allen, Phillip K.\\'Se...  Phillip K Allen   \n",
       "1  \\Phillip_Allen_Jan2002_1\\Allen, Phillip K.\\'Se...  Phillip K Allen   \n",
       "2    \\Phillip_Allen_Dec2000\\Notes Folders\\'sent mail  Phillip K Allen   \n",
       "3    \\Phillip_Allen_Dec2000\\Notes Folders\\'sent mail  Phillip K Allen   \n",
       "4    \\Phillip_Allen_Dec2000\\Notes Folders\\'sent mail  Phillip K Allen   \n",
       "\n",
       "                                                X-To  \\\n",
       "0           Tim Belden <Tim Belden/Enron@EnronXGate>   \n",
       "1  John J Lavorato <John J Lavorato/ENRON@enronXg...   \n",
       "2                                   Leah Van Arsdall   \n",
       "3                                      Randall L Gay   \n",
       "4                                         Greg Piper   \n",
       "\n",
       "                                        message_text employee  \n",
       "0                          Here is our forecast\\n\\n   allen-p  \n",
       "1  Traveling to have a business meeting takes the...  allen-p  \n",
       "2                     test successful.  way to go!!!  allen-p  \n",
       "3  Randy,\\n\\n Can you send me a schedule of the s...  allen-p  \n",
       "4                Let's shoot for Tuesday at 11:45.    allen-p  "
      ]
     },
     "execution_count": 427,
     "metadata": {},
     "output_type": "execute_result"
    }
   ],
   "source": [
    "# Extract employee names\n",
    "\n",
    "def employee(file):\n",
    "    column = []\n",
    "    for string in file:\n",
    "        column.append(string.split(\"/\") [0])\n",
    "    return column\n",
    "\n",
    "df1['employee'] = employee(df1['file'])\n",
    "df1.head()"
   ]
  },
  {
   "cell_type": "code",
   "execution_count": 428,
   "id": "d989f1a7",
   "metadata": {},
   "outputs": [
    {
     "name": "stdout",
     "output_type": "stream",
     "text": [
      "14-05-2001\n"
     ]
    }
   ],
   "source": [
    "# Insert date\n",
    "\n",
    "import datetime\n",
    "from dateutil import parser\n",
    "\n",
    "# Show example:\n",
    "\n",
    "x = parser.parse('Mon, 14 May 2001 16:39:00 -0700 (PDT)')\n",
    "print(x.strftime('%d-%m-%Y'))"
   ]
  },
  {
   "cell_type": "code",
   "execution_count": 429,
   "id": "887b8ab8",
   "metadata": {},
   "outputs": [
    {
     "data": {
      "text/html": [
       "<div>\n",
       "<style scoped>\n",
       "    .dataframe tbody tr th:only-of-type {\n",
       "        vertical-align: middle;\n",
       "    }\n",
       "\n",
       "    .dataframe tbody tr th {\n",
       "        vertical-align: top;\n",
       "    }\n",
       "\n",
       "    .dataframe thead th {\n",
       "        text-align: right;\n",
       "    }\n",
       "</style>\n",
       "<table border=\"1\" class=\"dataframe\">\n",
       "  <thead>\n",
       "    <tr style=\"text-align: right;\">\n",
       "      <th></th>\n",
       "      <th>file</th>\n",
       "      <th>message</th>\n",
       "      <th>date</th>\n",
       "      <th>subject</th>\n",
       "      <th>X-Folder</th>\n",
       "      <th>X-From</th>\n",
       "      <th>X-To</th>\n",
       "      <th>message_text</th>\n",
       "      <th>employee</th>\n",
       "    </tr>\n",
       "  </thead>\n",
       "  <tbody>\n",
       "    <tr>\n",
       "      <th>0</th>\n",
       "      <td>allen-p/_sent_mail/1.</td>\n",
       "      <td>Message-ID: &lt;18782981.1075855378110.JavaMail.e...</td>\n",
       "      <td>14-05-2001</td>\n",
       "      <td></td>\n",
       "      <td>\\Phillip_Allen_Jan2002_1\\Allen, Phillip K.\\'Se...</td>\n",
       "      <td>Phillip K Allen</td>\n",
       "      <td>Tim Belden &lt;Tim Belden/Enron@EnronXGate&gt;</td>\n",
       "      <td>Here is our forecast\\n\\n</td>\n",
       "      <td>allen-p</td>\n",
       "    </tr>\n",
       "    <tr>\n",
       "      <th>1</th>\n",
       "      <td>allen-p/_sent_mail/10.</td>\n",
       "      <td>Message-ID: &lt;15464986.1075855378456.JavaMail.e...</td>\n",
       "      <td>04-05-2001</td>\n",
       "      <td>Re:</td>\n",
       "      <td>\\Phillip_Allen_Jan2002_1\\Allen, Phillip K.\\'Se...</td>\n",
       "      <td>Phillip K Allen</td>\n",
       "      <td>John J Lavorato &lt;John J Lavorato/ENRON@enronXg...</td>\n",
       "      <td>Traveling to have a business meeting takes the...</td>\n",
       "      <td>allen-p</td>\n",
       "    </tr>\n",
       "    <tr>\n",
       "      <th>2</th>\n",
       "      <td>allen-p/_sent_mail/100.</td>\n",
       "      <td>Message-ID: &lt;24216240.1075855687451.JavaMail.e...</td>\n",
       "      <td>18-10-2000</td>\n",
       "      <td>Re: test</td>\n",
       "      <td>\\Phillip_Allen_Dec2000\\Notes Folders\\'sent mail</td>\n",
       "      <td>Phillip K Allen</td>\n",
       "      <td>Leah Van Arsdall</td>\n",
       "      <td>test successful.  way to go!!!</td>\n",
       "      <td>allen-p</td>\n",
       "    </tr>\n",
       "    <tr>\n",
       "      <th>3</th>\n",
       "      <td>allen-p/_sent_mail/1000.</td>\n",
       "      <td>Message-ID: &lt;13505866.1075863688222.JavaMail.e...</td>\n",
       "      <td>23-10-2000</td>\n",
       "      <td></td>\n",
       "      <td>\\Phillip_Allen_Dec2000\\Notes Folders\\'sent mail</td>\n",
       "      <td>Phillip K Allen</td>\n",
       "      <td>Randall L Gay</td>\n",
       "      <td>Randy,\\n\\n Can you send me a schedule of the s...</td>\n",
       "      <td>allen-p</td>\n",
       "    </tr>\n",
       "    <tr>\n",
       "      <th>4</th>\n",
       "      <td>allen-p/_sent_mail/1001.</td>\n",
       "      <td>Message-ID: &lt;30922949.1075863688243.JavaMail.e...</td>\n",
       "      <td>31-08-2000</td>\n",
       "      <td>Re: Hello</td>\n",
       "      <td>\\Phillip_Allen_Dec2000\\Notes Folders\\'sent mail</td>\n",
       "      <td>Phillip K Allen</td>\n",
       "      <td>Greg Piper</td>\n",
       "      <td>Let's shoot for Tuesday at 11:45.</td>\n",
       "      <td>allen-p</td>\n",
       "    </tr>\n",
       "  </tbody>\n",
       "</table>\n",
       "</div>"
      ],
      "text/plain": [
       "                       file  \\\n",
       "0     allen-p/_sent_mail/1.   \n",
       "1    allen-p/_sent_mail/10.   \n",
       "2   allen-p/_sent_mail/100.   \n",
       "3  allen-p/_sent_mail/1000.   \n",
       "4  allen-p/_sent_mail/1001.   \n",
       "\n",
       "                                             message        date    subject  \\\n",
       "0  Message-ID: <18782981.1075855378110.JavaMail.e...  14-05-2001              \n",
       "1  Message-ID: <15464986.1075855378456.JavaMail.e...  04-05-2001        Re:   \n",
       "2  Message-ID: <24216240.1075855687451.JavaMail.e...  18-10-2000   Re: test   \n",
       "3  Message-ID: <13505866.1075863688222.JavaMail.e...  23-10-2000              \n",
       "4  Message-ID: <30922949.1075863688243.JavaMail.e...  31-08-2000  Re: Hello   \n",
       "\n",
       "                                            X-Folder           X-From  \\\n",
       "0  \\Phillip_Allen_Jan2002_1\\Allen, Phillip K.\\'Se...  Phillip K Allen   \n",
       "1  \\Phillip_Allen_Jan2002_1\\Allen, Phillip K.\\'Se...  Phillip K Allen   \n",
       "2    \\Phillip_Allen_Dec2000\\Notes Folders\\'sent mail  Phillip K Allen   \n",
       "3    \\Phillip_Allen_Dec2000\\Notes Folders\\'sent mail  Phillip K Allen   \n",
       "4    \\Phillip_Allen_Dec2000\\Notes Folders\\'sent mail  Phillip K Allen   \n",
       "\n",
       "                                                X-To  \\\n",
       "0           Tim Belden <Tim Belden/Enron@EnronXGate>   \n",
       "1  John J Lavorato <John J Lavorato/ENRON@enronXg...   \n",
       "2                                   Leah Van Arsdall   \n",
       "3                                      Randall L Gay   \n",
       "4                                         Greg Piper   \n",
       "\n",
       "                                        message_text employee  \n",
       "0                          Here is our forecast\\n\\n   allen-p  \n",
       "1  Traveling to have a business meeting takes the...  allen-p  \n",
       "2                     test successful.  way to go!!!  allen-p  \n",
       "3  Randy,\\n\\n Can you send me a schedule of the s...  allen-p  \n",
       "4                Let's shoot for Tuesday at 11:45.    allen-p  "
      ]
     },
     "execution_count": 429,
     "metadata": {},
     "output_type": "execute_result"
    }
   ],
   "source": [
    "# Apply insert date to then entire dataset\n",
    "\n",
    "def change_type(dates):\n",
    "    column = []\n",
    "    \n",
    "    for date in dates:\n",
    "        column.append(parser.parse(date).strftime('%d-%m-%Y'))\n",
    "        \n",
    "    return column\n",
    "\n",
    "df1['date'] = change_type(df1['date'])\n",
    "df1.head()"
   ]
  },
  {
   "cell_type": "code",
   "execution_count": 430,
   "id": "5330c225",
   "metadata": {},
   "outputs": [
    {
     "name": "stdout",
     "output_type": "stream",
     "text": [
      "   Employee_Name  Amount_of_emails_sent\n",
      "0     kaminski-v                  28463\n",
      "1     dasovich-j                  28234\n",
      "2         kean-s                  25351\n",
      "3         mann-k                  23381\n",
      "4        jones-t                  19950\n",
      "5   shackleton-s                  18687\n",
      "6       taylor-m                  13875\n",
      "7       farmer-d                  13032\n",
      "8      germany-c                  12436\n",
      "9         beck-s                  11830\n",
      "10       symes-k                  10827\n",
      "11       nemec-g                  10655\n",
      "12       scott-s                   8022\n",
      "13      rogers-b                   8009\n",
      "14        bass-e                   7823\n",
      "15     sanders-r                   7329\n",
      "16    campbell-l                   6489\n",
      "17     shapiro-r                   6071\n",
      "18      guzman-m                   6054\n",
      "19         lay-k                   5937\n"
     ]
    }
   ],
   "source": [
    "# Visualisations\n",
    "\n",
    "# Top 20 email senders in the dataset\n",
    "\n",
    "top_20_senders = df1['employee'].value_counts()[:20]\n",
    "top_20_senders = top_20_senders.reset_index()\n",
    "top_20_senders.columns = ['Employee_Name', 'Amount_of_emails_sent']\n",
    "\n",
    "print(top_20_senders)"
   ]
  },
  {
   "cell_type": "code",
   "execution_count": 431,
   "id": "fba48efb",
   "metadata": {},
   "outputs": [
    {
     "data": {
      "image/png": "[encoded data removed]",
      "text/plain": [
       "<Figure size 720x360 with 1 Axes>"
      ]
     },
     "metadata": {},
     "output_type": "display_data"
    }
   ],
   "source": [
    "#Visualisation of the quantity of emails sent by date\n",
    "\n",
    "email_count = df1.groupby('date')['message'].count()\n",
    "\n",
    "fig, ax = plt.subplots(figsize=(10,5))\n",
    "ax.fill_between(email_count.index, email_count.values, alpha=0.8, cmap='rainbow')\n",
    "ax.set_xlabel('Date')\n",
    "ax.set_ylabel('Number_of_Emails')\n",
    "ax.set_title('Quantity of Emails Sent by Date')\n",
    "plt.show()"
   ]
  },
  {
   "cell_type": "code",
   "execution_count": 432,
   "id": "8a1d4f3b",
   "metadata": {},
   "outputs": [
    {
     "data": {
      "image/png": "[encoded data removed]",
      "text/plain": [
       "<Figure size 720x576 with 1 Axes>"
      ]
     },
     "metadata": {},
     "output_type": "display_data"
    }
   ],
   "source": [
    "# Visualisation of the top 20 email senders\n",
    "\n",
    "plt.figure(figsize=(10,8))\n",
    "\n",
    "sns.barplot(y='Employee_Name', x='Amount_of_emails_sent', data=top_20_senders, palette='rainbow')\n",
    "plt.title('The Top 20 Email Senders in the Dataset')\n",
    "plt.xlabel('The Amount of Emails Sent')\n",
    "plt.ylabel('Employee Name')\n",
    "plt.show()"
   ]
  },
  {
   "cell_type": "markdown",
   "id": "361ce3f0",
   "metadata": {},
   "source": [
    "# c) Visualising clusters - Briefly discuss the technique/algorithm used to visualise data on the scatter plot                                  "
   ]
  },
  {
   "cell_type": "code",
   "execution_count": 433,
   "id": "3bda53ca",
   "metadata": {},
   "outputs": [],
   "source": [
    "# Import Libraries\n",
    "\n",
    "from sklearn.feature_extraction.text import TfidfVectorizer\n",
    "from sklearn.cluster import KMeans\n",
    "from sklearn.decomposition import TruncatedSVD"
   ]
  },
  {
   "cell_type": "code",
   "execution_count": 434,
   "id": "5fcd8e84",
   "metadata": {},
   "outputs": [],
   "source": [
    "# Pre-process the data using TF-IDF Vectorization\n",
    "\n",
    "vectorizer = TfidfVectorizer(stop_words='english')\n",
    "\n",
    "X = vectorizer.fit_transform(df1['message_text'])"
   ]
  },
  {
   "cell_type": "code",
   "execution_count": 435,
   "id": "9416e359",
   "metadata": {},
   "outputs": [],
   "source": [
    "# Reduce the dimensionality of the data using Truncated SVD\n",
    "\n",
    "svd = TruncatedSVD(n_components=50)\n",
    "X = svd.fit_transform(X)"
   ]
  },
  {
   "cell_type": "code",
   "execution_count": 436,
   "id": "7138942d",
   "metadata": {},
   "outputs": [
    {
     "data": {
      "image/png": "[encoded data removed]",
      "text/plain": [
       "<Figure size 432x288 with 1 Axes>"
      ]
     },
     "metadata": {},
     "output_type": "display_data"
    }
   ],
   "source": [
    "# Determine the optimal value of k using the inflection point method\n",
    "\n",
    "inertia = []\n",
    "\n",
    "for k in range(1,11):\n",
    "    kmeans = KMeans(n_clusters=k, random_state=42)\n",
    "    kmeans.fit(X)\n",
    "    inertia.append(kmeans.inertia_)\n",
    "plt.plot(range(1,11), inertia)    \n",
    "plt.title('Inflection Point Method')\n",
    "plt.xlabel('Number of Clusters')\n",
    "plt.ylabel('Interia')\n",
    "plt.show()"
   ]
  },
  {
   "cell_type": "code",
   "execution_count": 437,
   "id": "58f1dbd6",
   "metadata": {},
   "outputs": [
    {
     "data": {
      "text/plain": [
       "KMeans(n_clusters=10, random_state=42)"
      ]
     },
     "execution_count": 437,
     "metadata": {},
     "output_type": "execute_result"
    }
   ],
   "source": [
    "# Train the K-Means model with the optimal value of k. From the plot above we can \n",
    "# estimate 10 clusters\n",
    "\n",
    "kmeans = KMeans(n_clusters=10, random_state=42)\n",
    "kmeans.fit(X)"
   ]
  },
  {
   "cell_type": "code",
   "execution_count": 438,
   "id": "9e86bf4a",
   "metadata": {},
   "outputs": [],
   "source": [
    "# Predict the clusters for each email\n",
    "labels = kmeans.predict(X)"
   ]
  },
  {
   "cell_type": "code",
   "execution_count": 439,
   "id": "7cb2de62",
   "metadata": {},
   "outputs": [
    {
     "data": {
      "image/png": "[encoded data removed]",
      "text/plain": [
       "<Figure size 432x288 with 1 Axes>"
      ]
     },
     "metadata": {},
     "output_type": "display_data"
    }
   ],
   "source": [
    "# Visualise the clusters using a scatter plot\n",
    "\n",
    "plt.scatter(X[:,0], X[:,1], c=labels, cmap='rainbow')\n",
    "plt.title('K-Means Clustering')\n",
    "plt.xlabel('Component 1')\n",
    "plt.ylabel('Component 2')\n",
    "plt.show()"
   ]
  },
  {
   "cell_type": "markdown",
   "id": "674faacb",
   "metadata": {},
   "source": [
    "# Question 3"
   ]
  },
  {
   "cell_type": "markdown",
   "id": "4230266e",
   "metadata": {},
   "source": [
    "# a) Brief highlight on the problem domain/dataset"
   ]
  },
  {
   "cell_type": "markdown",
   "id": "96bd4232",
   "metadata": {},
   "source": [
    "# b) Text Analysis - Describe each step of the text analysis technique"
   ]
  },
  {
   "cell_type": "code",
   "execution_count": 301,
   "id": "b6e85539",
   "metadata": {},
   "outputs": [
    {
     "name": "stdout",
     "output_type": "stream",
     "text": [
      "(50000, 2)\n"
     ]
    }
   ],
   "source": [
    "# Import the csv into the pandas DataFrame\n",
    "\n",
    "data = pd.read_csv('/Users/martinmcelhinney/Documents/NCIRL/Machine Learning/TABA/IMDB Dataset.csv')\n",
    "data.head()\n",
    "print(data.shape)"
   ]
  },
  {
   "cell_type": "code",
   "execution_count": 302,
   "id": "2b0acbcc",
   "metadata": {},
   "outputs": [
    {
     "name": "stdout",
     "output_type": "stream",
     "text": [
      "<class 'pandas.core.frame.DataFrame'>\n",
      "RangeIndex: 50000 entries, 0 to 49999\n",
      "Data columns (total 2 columns):\n",
      " #   Column     Non-Null Count  Dtype \n",
      "---  ------     --------------  ----- \n",
      " 0   review     50000 non-null  object\n",
      " 1   sentiment  50000 non-null  object\n",
      "dtypes: object(2)\n",
      "memory usage: 781.4+ KB\n"
     ]
    }
   ],
   "source": [
    "data.info()"
   ]
  },
  {
   "cell_type": "code",
   "execution_count": 303,
   "id": "aa9f7e34",
   "metadata": {},
   "outputs": [
    {
     "data": {
      "text/html": [
       "<div>\n",
       "<style scoped>\n",
       "    .dataframe tbody tr th:only-of-type {\n",
       "        vertical-align: middle;\n",
       "    }\n",
       "\n",
       "    .dataframe tbody tr th {\n",
       "        vertical-align: top;\n",
       "    }\n",
       "\n",
       "    .dataframe thead th {\n",
       "        text-align: right;\n",
       "    }\n",
       "</style>\n",
       "<table border=\"1\" class=\"dataframe\">\n",
       "  <thead>\n",
       "    <tr style=\"text-align: right;\">\n",
       "      <th></th>\n",
       "      <th>review</th>\n",
       "      <th>sentiment</th>\n",
       "    </tr>\n",
       "  </thead>\n",
       "  <tbody>\n",
       "    <tr>\n",
       "      <th>0</th>\n",
       "      <td>One of the other reviewers has mentioned that ...</td>\n",
       "      <td>positive</td>\n",
       "    </tr>\n",
       "    <tr>\n",
       "      <th>1</th>\n",
       "      <td>A wonderful little production. &lt;br /&gt;&lt;br /&gt;The...</td>\n",
       "      <td>positive</td>\n",
       "    </tr>\n",
       "    <tr>\n",
       "      <th>2</th>\n",
       "      <td>I thought this was a wonderful way to spend ti...</td>\n",
       "      <td>positive</td>\n",
       "    </tr>\n",
       "    <tr>\n",
       "      <th>3</th>\n",
       "      <td>Basically there's a family where a little boy ...</td>\n",
       "      <td>negative</td>\n",
       "    </tr>\n",
       "    <tr>\n",
       "      <th>4</th>\n",
       "      <td>Petter Mattei's \"Love in the Time of Money\" is...</td>\n",
       "      <td>positive</td>\n",
       "    </tr>\n",
       "  </tbody>\n",
       "</table>\n",
       "</div>"
      ],
      "text/plain": [
       "                                              review sentiment\n",
       "0  One of the other reviewers has mentioned that ...  positive\n",
       "1  A wonderful little production. <br /><br />The...  positive\n",
       "2  I thought this was a wonderful way to spend ti...  positive\n",
       "3  Basically there's a family where a little boy ...  negative\n",
       "4  Petter Mattei's \"Love in the Time of Money\" is...  positive"
      ]
     },
     "execution_count": 303,
     "metadata": {},
     "output_type": "execute_result"
    }
   ],
   "source": [
    "# investigate the columns and first five rows of the dataset\n",
    "\n",
    "data.head()"
   ]
  },
  {
   "cell_type": "code",
   "execution_count": 304,
   "id": "e2b73ddb",
   "metadata": {},
   "outputs": [
    {
     "data": {
      "text/plain": [
       "positive    25000\n",
       "negative    25000\n",
       "Name: sentiment, dtype: int64"
      ]
     },
     "execution_count": 304,
     "metadata": {},
     "output_type": "execute_result"
    }
   ],
   "source": [
    "#The reviews are equally distributed between positive and negative\n",
    "\n",
    "data['sentiment'].value_counts()"
   ]
  },
  {
   "cell_type": "code",
   "execution_count": 305,
   "id": "e24259b4",
   "metadata": {},
   "outputs": [
    {
     "name": "stdout",
     "output_type": "stream",
     "text": [
      "review       0\n",
      "sentiment    0\n",
      "dtype: int64\n"
     ]
    }
   ],
   "source": [
    "# Are there missing values in the dataset?\n",
    "\n",
    "print(data.isnull().sum())"
   ]
  },
  {
   "cell_type": "code",
   "execution_count": null,
   "id": "cf5a079b",
   "metadata": {},
   "outputs": [],
   "source": []
  },
  {
   "cell_type": "code",
   "execution_count": 306,
   "id": "91996bad",
   "metadata": {},
   "outputs": [
    {
     "name": "stdout",
     "output_type": "stream",
     "text": [
      "Requirement already satisfied: nltk in /opt/anaconda3/lib/python3.9/site-packages (3.6.5)\n",
      "Requirement already satisfied: click in /opt/anaconda3/lib/python3.9/site-packages (from nltk) (8.0.3)\n",
      "Requirement already satisfied: joblib in /opt/anaconda3/lib/python3.9/site-packages (from nltk) (1.1.0)\n",
      "Requirement already satisfied: regex>=2021.8.3 in /opt/anaconda3/lib/python3.9/site-packages (from nltk) (2021.8.3)\n",
      "Requirement already satisfied: tqdm in /opt/anaconda3/lib/python3.9/site-packages (from nltk) (4.62.3)\n"
     ]
    }
   ],
   "source": [
    "!pip install nltk"
   ]
  },
  {
   "cell_type": "markdown",
   "id": "bcecaa53",
   "metadata": {},
   "source": [
    "# Data Pre-Processing"
   ]
  },
  {
   "cell_type": "code",
   "execution_count": 307,
   "id": "70e502a2",
   "metadata": {},
   "outputs": [
    {
     "name": "stderr",
     "output_type": "stream",
     "text": [
      "[nltk_data] Downloading package stopwords to\n",
      "[nltk_data]     /Users/martinmcelhinney/nltk_data...\n",
      "[nltk_data]   Package stopwords is already up-to-date!\n"
     ]
    }
   ],
   "source": [
    "# Tokenization of text\n",
    "\n",
    "import nltk\n",
    "from nltk.tokenize.toktok import ToktokTokenizer\n",
    "\n",
    "nltk.download('stopwords')\n",
    "tokenizer = ToktokTokenizer()\n",
    "\n",
    "# Establishing English language stopwords\n",
    "\n",
    "stopword_list = nltk.corpus.stopwords.words('english')"
   ]
  },
  {
   "cell_type": "code",
   "execution_count": 308,
   "id": "99a18cdc",
   "metadata": {},
   "outputs": [],
   "source": [
    "# Remove html from the dataset\n",
    "\n",
    "import re\n",
    "from bs4 import BeautifulSoup\n",
    "\n",
    "def strip_html(text):\n",
    "    soup = BeautifulSoup(text, 'html.parser')\n",
    "    return soup.get_text()\n",
    "\n",
    "# Remove any square brackets\n",
    "\n",
    "def remove_square_brackets(text):\n",
    "    return re.sub('\\[[^]]*\\]', '',text)\n",
    "\n",
    "# Remove the noisy text\n",
    "\n",
    "def remove_noise(text):\n",
    "    text = strip_html(text)\n",
    "    text = remove_square_brackets(text)\n",
    "    return text\n",
    "\n",
    "# Apply to the review column\n",
    "\n",
    "data['review']=data['review'].apply(remove_noise)\n"
   ]
  },
  {
   "cell_type": "code",
   "execution_count": 309,
   "id": "f0c8530e",
   "metadata": {},
   "outputs": [],
   "source": [
    "# Remove special characters\n",
    "\n",
    "def remove_special_characters(text, remove_digits=True):\n",
    "    pattern=r'[^a-zA-z0-9\\s]'\n",
    "    text=re.sub(pattern,'',text)\n",
    "    return text\n",
    "\n",
    "# Apply to the review column\n",
    "\n",
    "data['review']=data['review'].apply(remove_special_characters)"
   ]
  },
  {
   "cell_type": "code",
   "execution_count": 310,
   "id": "84764742",
   "metadata": {},
   "outputs": [],
   "source": [
    "# Stem the text in the dataset\n",
    "\n",
    "from nltk.stem.porter import PorterStemmer\n",
    "\n",
    "def simple_stemmer(text):\n",
    "    ps=nltk.porter.PorterStemmer()\n",
    "    text=''.join([ps.stem(word) for word in text.split()])\n",
    "    return text\n",
    "\n",
    "# Apply to the review column\n",
    "\n",
    "data['review']=data['review'].apply(simple_stemmer)"
   ]
  },
  {
   "cell_type": "code",
   "execution_count": 311,
   "id": "25a124d0",
   "metadata": {},
   "outputs": [],
   "source": [
    "# Remove the stopwords\n",
    "\n",
    "def remove_stopwords(text, is_lower_case=False):\n",
    "    tokens = tokenizer.tokenize(text)\n",
    "    tokens = [token.strip() for token in tokens]\n",
    "    if is_lower_case:\n",
    "        filtered_tokens = [token for token in tokens if token not in stopword_list]\n",
    "    else:\n",
    "        filtered_tokens = [token for token in tokens if token not in stopword_list]\n",
    "            \n",
    "        filtered_text = ''.join(filtered_tokens)\n",
    "        return filtered_text\n",
    "\n",
    "# Apply to the review column\n",
    "data['review']=data['review'].apply(remove_stopwords)"
   ]
  },
  {
   "cell_type": "code",
   "execution_count": 312,
   "id": "99e803f4",
   "metadata": {},
   "outputs": [
    {
     "name": "stdout",
     "output_type": "stream",
     "text": [
      "(40000,) (40000,)\n",
      "(10000,) (10000,)\n"
     ]
    }
   ],
   "source": [
    "# Split the dataset into train and test\n",
    "\n",
    "# Train dataset\n",
    "\n",
    "train_reviews=data.review[:40000]\n",
    "train_sentiments=data.sentiment[:40000]\n",
    "\n",
    "# Test dataset\n",
    "\n",
    "test_reviews = data.review[40000:]\n",
    "test_sentiments = data.sentiment[40000:]\n",
    "\n",
    "print(train_reviews.shape,train_sentiments.shape)\n",
    "print(test_reviews.shape,test_sentiments.shape)"
   ]
  },
  {
   "cell_type": "code",
   "execution_count": 314,
   "id": "48c5cc07",
   "metadata": {},
   "outputs": [
    {
     "data": {
      "text/plain": [
       "'oneoftheotherreviewhamentionthatafterwatchjust1ozepisodyoullbehooktheyarerightasthiisexactliwhathappenwithmethfirstthingthatstruckmeaboutozwaitbrutalandunflinchsceneofviolencwhichsetinrightfromthewordgotrustmethiisnotashowforthefaintheartortimidthishowpullnopunchwithregardtodrugsexorviolencitishardcorintheclassicuseoftheworditiscallozasthatisthenicknamgiventotheoswaldmaximumsecurstatepenitentariitfocusmainlionemeraldcitianexperimentsectionoftheprisonwhereallthecellhaveglassfrontandfaceinwardsoprivaciisnothighontheagendaemcitiishometomanyaryanmuslimgangstalatinochristianitalianirishandmoresoscuffldeathstaredodgidealandshadiagreementareneverfarawayiwouldsaythemainappealoftheshowisduetothefactthatitgoewhereothershowwouldntdareforgetprettipicturpaintformainstreamaudiencforgetcharmforgetromanceozdoesntmessaroundthefirstepisodieversawstruckmeassonastiitwasurrealicouldntsayiwareadiforitbutasiwatchmoreidevelopatastforozandgotaccustomtothehighlevelofgraphicviolencnotjustviolencbutinjusticcrookguardwhollbesoldoutforanickelinmatwhollkillonorderandgetawaywithitwellmannermiddlclassinmatbeturnintoprisonbitchduetotheirlackofstreetskillorprisonexperiwatchozyoumaybecomcomfortwithwhatisuncomfortviewingthatifyoucangetintouchwithyourdarkerside'"
      ]
     },
     "execution_count": 314,
     "metadata": {},
     "output_type": "execute_result"
    }
   ],
   "source": [
    "# Normalise Train reviews\n",
    "\n",
    "norm_train_reviews=data.review[:40000]\n",
    "norm_train_reviews[0]"
   ]
  },
  {
   "cell_type": "code",
   "execution_count": 315,
   "id": "9593639f",
   "metadata": {},
   "outputs": [
    {
     "data": {
      "text/plain": [
       "'ireadallthereviewhereafterwatchthipiecofcinematgarbagandittookmeatleast2pagetofindoutthatsomebodielsdidntthinkthatthiappallingliunfunnimontagwasnttheacmofhumourinthe70orindeinaniothereraifthiisnttheleastfunnisetofsketchcomediiveeverseenitlldotillitcomealonghalfoftheskithadalreadibeendoneandinfinitbetterbyactsuchasmontipythonandwoodiallenifiwatosaythatanicepiecofanimthatlastabout90secondisthehighlightofthifilmitwouldstillnotgetclosetosumupjusthowmindlessanddrivelriddenthiwastof75minutissemincomedionliintheworldwhereseminreallidoemeansemenscatologhumouronliinaworldwherescatisactualfeceprecursorjokeonliifbythatwemeanthatthiisahandbookofhownottodocomedititandbumandtheoddbeaverniceifyouareapubescboywithatleastonehandfreeandhaventfoundoutthatplayboyexistgiveitabreakbecausitwatheearli70nowaytherehadbeensketchcomedigobackatleasttenyearpriortheonliwayicouldevenforgivthifilmevenbemadeisifitwaatgunpointretrohardlisketchaboutclownsubtlipervertchildrenmaybecutedginsomecirclanditcouldactualhavebeenfunnibutitjustcomeoffasrealliquitsadwhatkeptmegothroughouttheentir75minutsheerbeliefthattheymayhavesaveagenuinfunniskitfortheendigavethefilma1becaustherewanolowerscoreandicanonlirecommendittoinsomniacorcomapatientsorperhappeoplsufferfromlockjawtheirjawwouldfinaldropopenindisbelief'"
      ]
     },
     "execution_count": 315,
     "metadata": {},
     "output_type": "execute_result"
    }
   ],
   "source": [
    "# Normalise Test reviews\n",
    "\n",
    "norm_test_reviews=data.review[40000:]\n",
    "norm_test_reviews[45005]"
   ]
  },
  {
   "cell_type": "markdown",
   "id": "095a8315",
   "metadata": {},
   "source": [
    "# Model Construction"
   ]
  },
  {
   "cell_type": "code",
   "execution_count": 318,
   "id": "8e756a89",
   "metadata": {},
   "outputs": [
    {
     "name": "stdout",
     "output_type": "stream",
     "text": [
      "Bag of words CV Train:  (40000, 43429)\n",
      "Bag of words CV Test:  (10000, 43429)\n"
     ]
    }
   ],
   "source": [
    "# Construct the Bag of Words Model\n",
    "from sklearn.feature_extraction.text import CountVectorizer\n",
    "\n",
    "#Carry out Count Vectorizer for bag of words\n",
    "cv=CountVectorizer(min_df=0,max_df=1,binary=False,ngram_range=(1,3))\n",
    "\n",
    "# Transform the Train reviews\n",
    "cv_train_reviews=cv.fit_transform(norm_train_reviews)\n",
    "\n",
    "# Transform the Test reviews\n",
    "cv_test_reviews=cv.transform(norm_test_reviews)\n",
    "\n",
    "\n",
    "\n",
    "print('Bag of words CV Train: ', cv_train_reviews.shape)\n",
    "print('Bag of words CV Test: ', cv_test_reviews.shape)\n",
    "\n"
   ]
  },
  {
   "cell_type": "code",
   "execution_count": 326,
   "id": "bdfa4acd",
   "metadata": {},
   "outputs": [
    {
     "name": "stdout",
     "output_type": "stream",
     "text": [
      "TFIDF Train:  (40000, 43429)\n",
      "TFIDF Test:  (10000, 43429)\n"
     ]
    }
   ],
   "source": [
    "# TFIDF Model - Used to convrt text into a matrix of TFIDF features\n",
    "\n",
    "from sklearn.feature_extraction.text import TfidfVectorizer\n",
    "\n",
    "#TDIDF Vectorizer\n",
    "tv=TfidfVectorizer(min_df=0,max_df=1, use_idf=True,ngram_range=(1,3))\n",
    "\n",
    "# Transform the Train reviews\n",
    "tv_train_reviews=tv.fit_transform(norm_train_reviews)\n",
    "\n",
    "#Transform the Test reviews\n",
    "tv_test_reviews=tv.transform(norm_test_reviews)\n",
    "\n",
    "print('TFIDF Train: ', tv_train_reviews.shape)\n",
    "print('TFIDF Test: ', tv_test_reviews.shape)"
   ]
  },
  {
   "cell_type": "code",
   "execution_count": 320,
   "id": "96837810",
   "metadata": {},
   "outputs": [
    {
     "name": "stdout",
     "output_type": "stream",
     "text": [
      "(50000, 1)\n"
     ]
    }
   ],
   "source": [
    "# Label the sentiment data\n",
    "from sklearn.preprocessing import LabelBinarizer\n",
    "\n",
    "lb=LabelBinarizer()\n",
    "\n",
    "# Transform the sentiment data\n",
    "\n",
    "sentiment_data=lb.fit_transform(data['sentiment'])\n",
    "print(sentiment_data.shape)"
   ]
  },
  {
   "cell_type": "code",
   "execution_count": 321,
   "id": "47880169",
   "metadata": {},
   "outputs": [
    {
     "name": "stdout",
     "output_type": "stream",
     "text": [
      "[[1]\n",
      " [1]\n",
      " [1]\n",
      " ...\n",
      " [1]\n",
      " [0]\n",
      " [0]]\n",
      "[[0]\n",
      " [0]\n",
      " [0]\n",
      " ...\n",
      " [0]\n",
      " [0]\n",
      " [0]]\n"
     ]
    }
   ],
   "source": [
    "# Splitting the sentiment data into Train and Test\n",
    "\n",
    "train_sentiments=sentiment_data[:40000]\n",
    "test_sentiments=sentiment_data[40000:]\n",
    "\n",
    "print(train_sentiments)\n",
    "print(test_sentiments)"
   ]
  },
  {
   "cell_type": "code",
   "execution_count": 329,
   "id": "1607f309",
   "metadata": {},
   "outputs": [
    {
     "name": "stdout",
     "output_type": "stream",
     "text": [
      "LogisticRegression(C=1, max_iter=500, random_state=42)\n",
      "LogisticRegression(C=1, max_iter=500, random_state=42)\n"
     ]
    }
   ],
   "source": [
    "# Build a logistic regression model for the Bag of Words and TFIDF features\n",
    "\n",
    "#Train the model\n",
    "lr=LogisticRegression(penalty='l2',max_iter=500,C=1, random_state=42)\n",
    "\n",
    "#Fit the Bag of Words Model\n",
    "lr_bow=lr.fit(cv_train_reviews,train_sentiments.ravel())\n",
    "print(lr_bow)\n",
    "\n",
    "#Fit the TFIDF Model\n",
    "lr_tfidf=lr.fit(tv_train_reviews,train_sentiments.ravel())\n",
    "\n",
    "print(lr_tfidf)"
   ]
  },
  {
   "cell_type": "markdown",
   "id": "a8036522",
   "metadata": {},
   "source": [
    "# Evaluation"
   ]
  },
  {
   "cell_type": "code",
   "execution_count": 330,
   "id": "26a6b385",
   "metadata": {},
   "outputs": [
    {
     "name": "stdout",
     "output_type": "stream",
     "text": [
      "[0 0 0 ... 0 0 0]\n",
      "[0 0 0 ... 0 0 0]\n"
     ]
    }
   ],
   "source": [
    "#How the models performs on the dataset\n",
    "\n",
    "#Predicting how the model for Bag of Words performs\n",
    "lr_bow_predict=lr.predict(cv_test_reviews)\n",
    "print(lr_bow_predict)\n",
    "\n",
    "#Predicting how the TFIDF model performs\n",
    "lr_tfidf_predict=lr.predict(tv_test_reviews)\n",
    "print(lr_tfidf_predict)"
   ]
  },
  {
   "cell_type": "code",
   "execution_count": 331,
   "id": "301dd05b",
   "metadata": {},
   "outputs": [
    {
     "name": "stdout",
     "output_type": "stream",
     "text": [
      "The Linear regression Bag of Words Accuracy Score:  0.5032\n",
      "The linear regression TFIDF Accuracy Score:  0.5032\n"
     ]
    }
   ],
   "source": [
    "#Determine the Accuracy of the models\n",
    "\n",
    "#Accuracy of the Bag of Words Model\n",
    "lr_bow_score=accuracy_score(test_sentiments,lr_bow_predict)\n",
    "print('The Linear regression Bag of Words Accuracy Score: ', lr_bow_score)\n",
    "\n",
    "#Accuracy of the TFIDF Model\n",
    "lr_tfidf_score=accuracy_score(test_sentiments,lr_tfidf_predict)\n",
    "print('The linear regression TFIDF Accuracy Score: ', lr_tfidf_score)"
   ]
  },
  {
   "cell_type": "code",
   "execution_count": null,
   "id": "63adcfa4",
   "metadata": {},
   "outputs": [],
   "source": []
  }
 ],
 "metadata": {
  "kernelspec": {
   "display_name": "Python 3 (ipykernel)",
   "language": "python",
   "name": "python3"
  },
  "language_info": {
   "codemirror_mode": {
    "name": "ipython",
    "version": 3
   },
   "file_extension": ".py",
   "mimetype": "text/x-python",
   "name": "python",
   "nbconvert_exporter": "python",
   "pygments_lexer": "ipython3",
   "version": "3.9.7"
  }
 },
 "nbformat": 4,
 "nbformat_minor": 5
}
